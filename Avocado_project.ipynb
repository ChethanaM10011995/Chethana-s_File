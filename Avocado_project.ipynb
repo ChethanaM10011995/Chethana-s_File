{
 "cells": [
  {
   "cell_type": "markdown",
   "id": "d205fa66",
   "metadata": {},
   "source": [
    "Problem Statement:\n",
    "Avocado is a fruit consumed by people heavily in the United States. \n",
    "\n",
    "Content\n",
    "This data was downloaded from the Hass Avocado Board website in May of 2018 & compiled into a single CSV. \n",
    "\n",
    "The table below represents weekly 2018 retail scan data for National retail volume (units) and price. Retail scan data comes directly from retailers’ cash registers based on actual retail sales of Hass avocados. \n",
    "\n",
    "Starting in 2013, the table below reflects an expanded, multi-outlet retail data set. Multi-outlet reporting includes an aggregation of the following channels: grocery, mass, club, drug, dollar and military. The Average Price (of avocados) in the table reflects a per unit (per avocado) cost, even when multiple units (avocados) are sold in bags. \n",
    "\n",
    "The Product Lookup codes (PLU’s) in the table are only for Hass avocados. Other varieties of avocados (e.g. greenskins) are not included in this table.\n",
    "\n",
    "Some relevant columns in the dataset:\n",
    "\n",
    "Date - The date of the observation\n",
    "AveragePrice - the average price of a single avocado\n",
    "type - conventional or organic\n",
    "year - the year\n",
    "Region - the city or region of the observation\n",
    "Total Volume - Total number of avocados sold\n",
    "4046 - Total number of avocados with PLU 4046 sold\n",
    "4225 - Total number of avocados with PLU 4225 sold\n",
    "4770 - Total number of avocados with PLU 4770 sold\n",
    "\n",
    "\n",
    "Inspiration /Label \n",
    "\n",
    "The dataset can be seen in two angles to find the region and find the average price .\n",
    "\n",
    "* Classification to predict the region\n",
    "* Regression to predict the price of avocado"
   ]
  },
  {
   "cell_type": "code",
   "execution_count": 1,
   "id": "915b210b",
   "metadata": {},
   "outputs": [],
   "source": [
    "import pandas as pd\n",
    "import numpy as np\n",
    "import seaborn as sns\n",
    "import matplotlib.pyplot as plt\n",
    "import warnings\n",
    "warnings.filterwarnings('ignore')\n",
    "from sklearn.preprocessing import LabelEncoder\n",
    "from sklearn.preprocessing import StandardScaler\n",
    "from sklearn.model_selection import train_test_split\n",
    "from sklearn.linear_model import LinearRegression\n",
    "from sklearn.metrics import mean_squared_error,mean_absolute_error,r2_score\n",
    "from sklearn.svm import SVR\n",
    "from sklearn.tree import DecisionTreeRegressor\n",
    "from sklearn.neighbors import KNeighborsRegressor\n",
    "from sklearn.naive_bayes import MultinomialNB\n",
    "from sklearn.linear_model import Ridge\n",
    "from sklearn.model_selection import GridSearchCV\n",
    "from sklearn.linear_model import LogisticRegression\n",
    "from sklearn.metrics import confusion_matrix,accuracy_score,classification_report\n",
    "from sklearn.naive_bayes import GaussianNB\n",
    "from sklearn.svm import SVC\n",
    "from sklearn.tree import DecisionTreeClassifier\n",
    "from sklearn.neighbors import KNeighborsClassifier\n",
    "from sklearn.ensemble import RandomForestClassifier\n",
    "from sklearn.linear_model import Ridge, Lasso"
   ]
  },
  {
   "cell_type": "code",
   "execution_count": 2,
   "id": "6244dbc9",
   "metadata": {},
   "outputs": [],
   "source": [
    "Avocadodata=pd.read_csv('avocado.csv')"
   ]
  },
  {
   "cell_type": "code",
   "execution_count": 3,
   "id": "de6880cd",
   "metadata": {},
   "outputs": [
    {
     "data": {
      "text/html": [
       "<div>\n",
       "<style scoped>\n",
       "    .dataframe tbody tr th:only-of-type {\n",
       "        vertical-align: middle;\n",
       "    }\n",
       "\n",
       "    .dataframe tbody tr th {\n",
       "        vertical-align: top;\n",
       "    }\n",
       "\n",
       "    .dataframe thead th {\n",
       "        text-align: right;\n",
       "    }\n",
       "</style>\n",
       "<table border=\"1\" class=\"dataframe\">\n",
       "  <thead>\n",
       "    <tr style=\"text-align: right;\">\n",
       "      <th></th>\n",
       "      <th>Unnamed: 0</th>\n",
       "      <th>Date</th>\n",
       "      <th>AveragePrice</th>\n",
       "      <th>Total Volume</th>\n",
       "      <th>4046</th>\n",
       "      <th>4225</th>\n",
       "      <th>4770</th>\n",
       "      <th>Total Bags</th>\n",
       "      <th>Small Bags</th>\n",
       "      <th>Large Bags</th>\n",
       "      <th>XLarge Bags</th>\n",
       "      <th>type</th>\n",
       "      <th>year</th>\n",
       "      <th>region</th>\n",
       "    </tr>\n",
       "  </thead>\n",
       "  <tbody>\n",
       "    <tr>\n",
       "      <th>0</th>\n",
       "      <td>0</td>\n",
       "      <td>2015-12-27</td>\n",
       "      <td>1.33</td>\n",
       "      <td>64236.62</td>\n",
       "      <td>1036.74</td>\n",
       "      <td>54454.85</td>\n",
       "      <td>48.16</td>\n",
       "      <td>8696.87</td>\n",
       "      <td>8603.62</td>\n",
       "      <td>93.25</td>\n",
       "      <td>0.0</td>\n",
       "      <td>conventional</td>\n",
       "      <td>2015</td>\n",
       "      <td>Albany</td>\n",
       "    </tr>\n",
       "    <tr>\n",
       "      <th>1</th>\n",
       "      <td>1</td>\n",
       "      <td>2015-12-20</td>\n",
       "      <td>1.35</td>\n",
       "      <td>54876.98</td>\n",
       "      <td>674.28</td>\n",
       "      <td>44638.81</td>\n",
       "      <td>58.33</td>\n",
       "      <td>9505.56</td>\n",
       "      <td>9408.07</td>\n",
       "      <td>97.49</td>\n",
       "      <td>0.0</td>\n",
       "      <td>conventional</td>\n",
       "      <td>2015</td>\n",
       "      <td>Albany</td>\n",
       "    </tr>\n",
       "    <tr>\n",
       "      <th>2</th>\n",
       "      <td>2</td>\n",
       "      <td>2015-12-13</td>\n",
       "      <td>0.93</td>\n",
       "      <td>118220.22</td>\n",
       "      <td>794.70</td>\n",
       "      <td>109149.67</td>\n",
       "      <td>130.50</td>\n",
       "      <td>8145.35</td>\n",
       "      <td>8042.21</td>\n",
       "      <td>103.14</td>\n",
       "      <td>0.0</td>\n",
       "      <td>conventional</td>\n",
       "      <td>2015</td>\n",
       "      <td>Albany</td>\n",
       "    </tr>\n",
       "    <tr>\n",
       "      <th>3</th>\n",
       "      <td>3</td>\n",
       "      <td>2015-12-06</td>\n",
       "      <td>1.08</td>\n",
       "      <td>78992.15</td>\n",
       "      <td>1132.00</td>\n",
       "      <td>71976.41</td>\n",
       "      <td>72.58</td>\n",
       "      <td>5811.16</td>\n",
       "      <td>5677.40</td>\n",
       "      <td>133.76</td>\n",
       "      <td>0.0</td>\n",
       "      <td>conventional</td>\n",
       "      <td>2015</td>\n",
       "      <td>Albany</td>\n",
       "    </tr>\n",
       "    <tr>\n",
       "      <th>4</th>\n",
       "      <td>4</td>\n",
       "      <td>2015-11-29</td>\n",
       "      <td>1.28</td>\n",
       "      <td>51039.60</td>\n",
       "      <td>941.48</td>\n",
       "      <td>43838.39</td>\n",
       "      <td>75.78</td>\n",
       "      <td>6183.95</td>\n",
       "      <td>5986.26</td>\n",
       "      <td>197.69</td>\n",
       "      <td>0.0</td>\n",
       "      <td>conventional</td>\n",
       "      <td>2015</td>\n",
       "      <td>Albany</td>\n",
       "    </tr>\n",
       "    <tr>\n",
       "      <th>...</th>\n",
       "      <td>...</td>\n",
       "      <td>...</td>\n",
       "      <td>...</td>\n",
       "      <td>...</td>\n",
       "      <td>...</td>\n",
       "      <td>...</td>\n",
       "      <td>...</td>\n",
       "      <td>...</td>\n",
       "      <td>...</td>\n",
       "      <td>...</td>\n",
       "      <td>...</td>\n",
       "      <td>...</td>\n",
       "      <td>...</td>\n",
       "      <td>...</td>\n",
       "    </tr>\n",
       "    <tr>\n",
       "      <th>18244</th>\n",
       "      <td>7</td>\n",
       "      <td>2018-02-04</td>\n",
       "      <td>1.63</td>\n",
       "      <td>17074.83</td>\n",
       "      <td>2046.96</td>\n",
       "      <td>1529.20</td>\n",
       "      <td>0.00</td>\n",
       "      <td>13498.67</td>\n",
       "      <td>13066.82</td>\n",
       "      <td>431.85</td>\n",
       "      <td>0.0</td>\n",
       "      <td>organic</td>\n",
       "      <td>2018</td>\n",
       "      <td>WestTexNewMexico</td>\n",
       "    </tr>\n",
       "    <tr>\n",
       "      <th>18245</th>\n",
       "      <td>8</td>\n",
       "      <td>2018-01-28</td>\n",
       "      <td>1.71</td>\n",
       "      <td>13888.04</td>\n",
       "      <td>1191.70</td>\n",
       "      <td>3431.50</td>\n",
       "      <td>0.00</td>\n",
       "      <td>9264.84</td>\n",
       "      <td>8940.04</td>\n",
       "      <td>324.80</td>\n",
       "      <td>0.0</td>\n",
       "      <td>organic</td>\n",
       "      <td>2018</td>\n",
       "      <td>WestTexNewMexico</td>\n",
       "    </tr>\n",
       "    <tr>\n",
       "      <th>18246</th>\n",
       "      <td>9</td>\n",
       "      <td>2018-01-21</td>\n",
       "      <td>1.87</td>\n",
       "      <td>13766.76</td>\n",
       "      <td>1191.92</td>\n",
       "      <td>2452.79</td>\n",
       "      <td>727.94</td>\n",
       "      <td>9394.11</td>\n",
       "      <td>9351.80</td>\n",
       "      <td>42.31</td>\n",
       "      <td>0.0</td>\n",
       "      <td>organic</td>\n",
       "      <td>2018</td>\n",
       "      <td>WestTexNewMexico</td>\n",
       "    </tr>\n",
       "    <tr>\n",
       "      <th>18247</th>\n",
       "      <td>10</td>\n",
       "      <td>2018-01-14</td>\n",
       "      <td>1.93</td>\n",
       "      <td>16205.22</td>\n",
       "      <td>1527.63</td>\n",
       "      <td>2981.04</td>\n",
       "      <td>727.01</td>\n",
       "      <td>10969.54</td>\n",
       "      <td>10919.54</td>\n",
       "      <td>50.00</td>\n",
       "      <td>0.0</td>\n",
       "      <td>organic</td>\n",
       "      <td>2018</td>\n",
       "      <td>WestTexNewMexico</td>\n",
       "    </tr>\n",
       "    <tr>\n",
       "      <th>18248</th>\n",
       "      <td>11</td>\n",
       "      <td>2018-01-07</td>\n",
       "      <td>1.62</td>\n",
       "      <td>17489.58</td>\n",
       "      <td>2894.77</td>\n",
       "      <td>2356.13</td>\n",
       "      <td>224.53</td>\n",
       "      <td>12014.15</td>\n",
       "      <td>11988.14</td>\n",
       "      <td>26.01</td>\n",
       "      <td>0.0</td>\n",
       "      <td>organic</td>\n",
       "      <td>2018</td>\n",
       "      <td>WestTexNewMexico</td>\n",
       "    </tr>\n",
       "  </tbody>\n",
       "</table>\n",
       "<p>18249 rows × 14 columns</p>\n",
       "</div>"
      ],
      "text/plain": [
       "       Unnamed: 0        Date  AveragePrice  Total Volume     4046       4225  \\\n",
       "0               0  2015-12-27          1.33      64236.62  1036.74   54454.85   \n",
       "1               1  2015-12-20          1.35      54876.98   674.28   44638.81   \n",
       "2               2  2015-12-13          0.93     118220.22   794.70  109149.67   \n",
       "3               3  2015-12-06          1.08      78992.15  1132.00   71976.41   \n",
       "4               4  2015-11-29          1.28      51039.60   941.48   43838.39   \n",
       "...           ...         ...           ...           ...      ...        ...   \n",
       "18244           7  2018-02-04          1.63      17074.83  2046.96    1529.20   \n",
       "18245           8  2018-01-28          1.71      13888.04  1191.70    3431.50   \n",
       "18246           9  2018-01-21          1.87      13766.76  1191.92    2452.79   \n",
       "18247          10  2018-01-14          1.93      16205.22  1527.63    2981.04   \n",
       "18248          11  2018-01-07          1.62      17489.58  2894.77    2356.13   \n",
       "\n",
       "         4770  Total Bags  Small Bags  Large Bags  XLarge Bags          type  \\\n",
       "0       48.16     8696.87     8603.62       93.25          0.0  conventional   \n",
       "1       58.33     9505.56     9408.07       97.49          0.0  conventional   \n",
       "2      130.50     8145.35     8042.21      103.14          0.0  conventional   \n",
       "3       72.58     5811.16     5677.40      133.76          0.0  conventional   \n",
       "4       75.78     6183.95     5986.26      197.69          0.0  conventional   \n",
       "...       ...         ...         ...         ...          ...           ...   \n",
       "18244    0.00    13498.67    13066.82      431.85          0.0       organic   \n",
       "18245    0.00     9264.84     8940.04      324.80          0.0       organic   \n",
       "18246  727.94     9394.11     9351.80       42.31          0.0       organic   \n",
       "18247  727.01    10969.54    10919.54       50.00          0.0       organic   \n",
       "18248  224.53    12014.15    11988.14       26.01          0.0       organic   \n",
       "\n",
       "       year            region  \n",
       "0      2015            Albany  \n",
       "1      2015            Albany  \n",
       "2      2015            Albany  \n",
       "3      2015            Albany  \n",
       "4      2015            Albany  \n",
       "...     ...               ...  \n",
       "18244  2018  WestTexNewMexico  \n",
       "18245  2018  WestTexNewMexico  \n",
       "18246  2018  WestTexNewMexico  \n",
       "18247  2018  WestTexNewMexico  \n",
       "18248  2018  WestTexNewMexico  \n",
       "\n",
       "[18249 rows x 14 columns]"
      ]
     },
     "execution_count": 3,
     "metadata": {},
     "output_type": "execute_result"
    }
   ],
   "source": [
    "df=pd.DataFrame(Avocadodata)\n",
    "df"
   ]
  },
  {
   "cell_type": "markdown",
   "id": "38ad5b14",
   "metadata": {},
   "source": [
    "The data consists of 18248 instances and 14 columns, It also has an unnamed column with indexes which can be dropped"
   ]
  },
  {
   "cell_type": "code",
   "execution_count": 4,
   "id": "d7554e5c",
   "metadata": {},
   "outputs": [],
   "source": [
    "df.rename({\"Unnamed: 0\":\"a\"}, axis=\"columns\", inplace=True)\n",
    "df.drop([\"a\"], axis=1, inplace=True)"
   ]
  },
  {
   "cell_type": "code",
   "execution_count": 5,
   "id": "31686227",
   "metadata": {},
   "outputs": [
    {
     "data": {
      "text/plain": [
       "(18249, 13)"
      ]
     },
     "execution_count": 5,
     "metadata": {},
     "output_type": "execute_result"
    }
   ],
   "source": [
    "df.shape"
   ]
  },
  {
   "cell_type": "markdown",
   "id": "118a2aab",
   "metadata": {},
   "source": [
    "Data has 13 columns and 18249 rows now"
   ]
  },
  {
   "cell_type": "markdown",
   "id": "cea11af8",
   "metadata": {},
   "source": [
    "# Exploratory Data Analysis:"
   ]
  },
  {
   "cell_type": "code",
   "execution_count": 6,
   "id": "8a337909",
   "metadata": {},
   "outputs": [
    {
     "data": {
      "text/plain": [
       "Index(['Date', 'AveragePrice', 'Total Volume', '4046', '4225', '4770',\n",
       "       'Total Bags', 'Small Bags', 'Large Bags', 'XLarge Bags', 'type', 'year',\n",
       "       'region'],\n",
       "      dtype='object')"
      ]
     },
     "execution_count": 6,
     "metadata": {},
     "output_type": "execute_result"
    }
   ],
   "source": [
    "df.columns"
   ]
  },
  {
   "cell_type": "code",
   "execution_count": 7,
   "id": "e157c30a",
   "metadata": {},
   "outputs": [
    {
     "data": {
      "text/plain": [
       "Date             object\n",
       "AveragePrice    float64\n",
       "Total Volume    float64\n",
       "4046            float64\n",
       "4225            float64\n",
       "4770            float64\n",
       "Total Bags      float64\n",
       "Small Bags      float64\n",
       "Large Bags      float64\n",
       "XLarge Bags     float64\n",
       "type             object\n",
       "year              int64\n",
       "region           object\n",
       "dtype: object"
      ]
     },
     "execution_count": 7,
     "metadata": {},
     "output_type": "execute_result"
    }
   ],
   "source": [
    "df.dtypes"
   ]
  },
  {
   "cell_type": "markdown",
   "id": "f69e2970",
   "metadata": {},
   "source": [
    "From the above results we can observe that the columns Date, type and region are object data type, year is integer and rest of thge columns are float data"
   ]
  },
  {
   "cell_type": "markdown",
   "id": "451671d2",
   "metadata": {},
   "source": [
    "# Visualization:"
   ]
  },
  {
   "cell_type": "code",
   "execution_count": 8,
   "id": "033f2e19",
   "metadata": {},
   "outputs": [
    {
     "data": {
      "text/plain": [
       "conventional    9126\n",
       "organic         9123\n",
       "Name: type, dtype: int64"
      ]
     },
     "execution_count": 8,
     "metadata": {},
     "output_type": "execute_result"
    }
   ],
   "source": [
    "df['type'].value_counts()"
   ]
  },
  {
   "cell_type": "markdown",
   "id": "2ceff2f7",
   "metadata": {},
   "source": [
    "The column 'type' has categorical data which has 9126 entries of conentional and 9123 entries of organic"
   ]
  },
  {
   "cell_type": "code",
   "execution_count": 9,
   "id": "8cd89c33",
   "metadata": {},
   "outputs": [
    {
     "data": {
      "text/plain": [
       "<AxesSubplot:xlabel='type', ylabel='Count'>"
      ]
     },
     "execution_count": 9,
     "metadata": {},
     "output_type": "execute_result"
    },
    {
     "data": {
      "image/png": "[encoded data removed]",
      "text/plain": [
       "<Figure size 432x288 with 1 Axes>"
      ]
     },
     "metadata": {
      "needs_background": "light"
     },
     "output_type": "display_data"
    }
   ],
   "source": [
    "sns.histplot(df['type'])"
   ]
  },
  {
   "cell_type": "code",
   "execution_count": 10,
   "id": "20967ce2",
   "metadata": {},
   "outputs": [
    {
     "data": {
      "text/plain": [
       "Albany                 338\n",
       "Sacramento             338\n",
       "Northeast              338\n",
       "NorthernNewEngland     338\n",
       "Orlando                338\n",
       "Philadelphia           338\n",
       "PhoenixTucson          338\n",
       "Pittsburgh             338\n",
       "Plains                 338\n",
       "Portland               338\n",
       "RaleighGreensboro      338\n",
       "RichmondNorfolk        338\n",
       "Roanoke                338\n",
       "SanDiego               338\n",
       "Atlanta                338\n",
       "SanFrancisco           338\n",
       "Seattle                338\n",
       "SouthCarolina          338\n",
       "SouthCentral           338\n",
       "Southeast              338\n",
       "Spokane                338\n",
       "StLouis                338\n",
       "Syracuse               338\n",
       "Tampa                  338\n",
       "TotalUS                338\n",
       "West                   338\n",
       "NewYork                338\n",
       "NewOrleansMobile       338\n",
       "Nashville              338\n",
       "Midsouth               338\n",
       "BaltimoreWashington    338\n",
       "Boise                  338\n",
       "Boston                 338\n",
       "BuffaloRochester       338\n",
       "California             338\n",
       "Charlotte              338\n",
       "Chicago                338\n",
       "CincinnatiDayton       338\n",
       "Columbus               338\n",
       "DallasFtWorth          338\n",
       "Denver                 338\n",
       "Detroit                338\n",
       "GrandRapids            338\n",
       "GreatLakes             338\n",
       "HarrisburgScranton     338\n",
       "HartfordSpringfield    338\n",
       "Houston                338\n",
       "Indianapolis           338\n",
       "Jacksonville           338\n",
       "LasVegas               338\n",
       "LosAngeles             338\n",
       "Louisville             338\n",
       "MiamiFtLauderdale      338\n",
       "WestTexNewMexico       335\n",
       "Name: region, dtype: int64"
      ]
     },
     "execution_count": 10,
     "metadata": {},
     "output_type": "execute_result"
    }
   ],
   "source": [
    "df['region'].value_counts()"
   ]
  },
  {
   "cell_type": "markdown",
   "id": "ca1c81f3",
   "metadata": {},
   "source": [
    "Region column has several region names which is again a categorical data and the data is equally distributed"
   ]
  },
  {
   "cell_type": "code",
   "execution_count": 11,
   "id": "69f6bc41",
   "metadata": {},
   "outputs": [
    {
     "data": {
      "text/plain": [
       "<AxesSubplot:xlabel='region', ylabel='Count'>"
      ]
     },
     "execution_count": 11,
     "metadata": {},
     "output_type": "execute_result"
    },
    {
     "data": {
      "image/png": "[encoded data removed]",
      "text/plain": [
       "<Figure size 1008x576 with 1 Axes>"
      ]
     },
     "metadata": {
      "needs_background": "light"
     },
     "output_type": "display_data"
    }
   ],
   "source": [
    "plt.figure(figsize = (14,8))\n",
    "sns.histplot(df['region'])"
   ]
  },
  {
   "cell_type": "code",
   "execution_count": 12,
   "id": "6c08ef7f",
   "metadata": {},
   "outputs": [
    {
     "data": {
      "text/plain": [
       "2017    5722\n",
       "2016    5616\n",
       "2015    5615\n",
       "2018    1296\n",
       "Name: year, dtype: int64"
      ]
     },
     "execution_count": 12,
     "metadata": {},
     "output_type": "execute_result"
    }
   ],
   "source": [
    "#We can now check for the characteristics of year column\n",
    "\n",
    "df['year'].value_counts()"
   ]
  },
  {
   "cell_type": "markdown",
   "id": "86686efc",
   "metadata": {},
   "source": [
    "The dataset consists of data of 4 years which is again categorical data"
   ]
  },
  {
   "cell_type": "code",
   "execution_count": 13,
   "id": "0ec4a0c2",
   "metadata": {},
   "outputs": [
    {
     "data": {
      "text/plain": [
       "<AxesSubplot:xlabel='year', ylabel='Density'>"
      ]
     },
     "execution_count": 13,
     "metadata": {},
     "output_type": "execute_result"
    },
    {
     "data": {
      "image/png": "[encoded data removed]",
      "text/plain": [
       "<Figure size 432x288 with 1 Axes>"
      ]
     },
     "metadata": {
      "needs_background": "light"
     },
     "output_type": "display_data"
    }
   ],
   "source": [
    "sns.distplot(df['year'])"
   ]
  },
  {
   "cell_type": "markdown",
   "id": "d5a116b0",
   "metadata": {},
   "source": [
    "Graph tells that the year 2015, 2016, 2017 records are equal in number and 2018 records are lesser in number"
   ]
  },
  {
   "cell_type": "code",
   "execution_count": 14,
   "id": "1f2570f8",
   "metadata": {},
   "outputs": [
    {
     "data": {
      "text/plain": [
       "2015-12-27    108\n",
       "2017-12-24    108\n",
       "2017-12-10    108\n",
       "2017-12-03    108\n",
       "2017-11-26    108\n",
       "             ... \n",
       "2016-11-06    108\n",
       "2018-01-07    108\n",
       "2017-06-18    107\n",
       "2017-06-25    107\n",
       "2015-12-06    107\n",
       "Name: Date, Length: 169, dtype: int64"
      ]
     },
     "execution_count": 14,
     "metadata": {},
     "output_type": "execute_result"
    }
   ],
   "source": [
    "#Checking for characteristics of Date column\n",
    "df['Date'].value_counts()"
   ]
  },
  {
   "cell_type": "markdown",
   "id": "38c1f5e2",
   "metadata": {},
   "source": [
    "The data has 169 unique dates which can be considered to categorical data and later we can check for it relationship with region and price"
   ]
  },
  {
   "cell_type": "code",
   "execution_count": 15,
   "id": "f97e7638",
   "metadata": {},
   "outputs": [
    {
     "data": {
      "text/plain": [
       "(array([  64.,  267.,  860., 1772., 2409., 2415., 2191., 2315., 1931.,\n",
       "        1481., 1051.,  621.,  352.,  246.,   92.,   85.,   47.,   39.,\n",
       "           8.,    3.]),\n",
       " array([0.44  , 0.5805, 0.721 , 0.8615, 1.002 , 1.1425, 1.283 , 1.4235,\n",
       "        1.564 , 1.7045, 1.845 , 1.9855, 2.126 , 2.2665, 2.407 , 2.5475,\n",
       "        2.688 , 2.8285, 2.969 , 3.1095, 3.25  ]),\n",
       " <BarContainer object of 20 artists>)"
      ]
     },
     "execution_count": 15,
     "metadata": {},
     "output_type": "execute_result"
    },
    {
     "data": {
      "image/png": "[encoded data removed]",
      "text/plain": [
       "<Figure size 432x288 with 1 Axes>"
      ]
     },
     "metadata": {
      "needs_background": "light"
     },
     "output_type": "display_data"
    }
   ],
   "source": [
    "#We can now check for distribution of data in each column\n",
    "plt.hist(df['AveragePrice'],bins=20)"
   ]
  },
  {
   "cell_type": "markdown",
   "id": "ca21dc81",
   "metadata": {},
   "source": [
    "We can observe that maximum price of avocado ranges from 1 to 1.5 "
   ]
  },
  {
   "cell_type": "code",
   "execution_count": 16,
   "id": "7e91130d",
   "metadata": {},
   "outputs": [
    {
     "data": {
      "text/plain": [
       "<AxesSubplot:xlabel='Total Volume', ylabel='Density'>"
      ]
     },
     "execution_count": 16,
     "metadata": {},
     "output_type": "execute_result"
    },
    {
     "data": {
      "image/png": "[encoded data removed]",
      "text/plain": [
       "<Figure size 432x288 with 1 Axes>"
      ]
     },
     "metadata": {
      "needs_background": "light"
     },
     "output_type": "display_data"
    }
   ],
   "source": [
    "sns.distplot(df['Total Volume'],bins=20)"
   ]
  },
  {
   "cell_type": "code",
   "execution_count": 17,
   "id": "3710158e",
   "metadata": {},
   "outputs": [
    {
     "data": {
      "text/plain": [
       "<AxesSubplot:xlabel='4046', ylabel='Density'>"
      ]
     },
     "execution_count": 17,
     "metadata": {},
     "output_type": "execute_result"
    },
    {
     "data": {
      "image/png": "[encoded data removed]",
      "text/plain": [
       "<Figure size 432x288 with 1 Axes>"
      ]
     },
     "metadata": {
      "needs_background": "light"
     },
     "output_type": "display_data"
    }
   ],
   "source": [
    "sns.distplot(df['4046'])"
   ]
  },
  {
   "cell_type": "markdown",
   "id": "8a081ab9",
   "metadata": {},
   "source": [
    "We can check for each different variables relation with the output variable"
   ]
  },
  {
   "cell_type": "code",
   "execution_count": 18,
   "id": "4c378b81",
   "metadata": {},
   "outputs": [
    {
     "data": {
      "text/plain": [
       "<AxesSubplot:xlabel='AveragePrice', ylabel='type'>"
      ]
     },
     "execution_count": 18,
     "metadata": {},
     "output_type": "execute_result"
    },
    {
     "data": {
      "image/png": "[encoded data removed]",
      "text/plain": [
       "<Figure size 432x288 with 1 Axes>"
      ]
     },
     "metadata": {
      "needs_background": "light"
     },
     "output_type": "display_data"
    }
   ],
   "source": [
    "sns.boxplot(y=\"type\", x=\"AveragePrice\",data=df)"
   ]
  },
  {
   "cell_type": "markdown",
   "id": "8be385f7",
   "metadata": {},
   "source": [
    "From the above plot we can observe that the price is more for organic avocado and less for conventional avocado"
   ]
  },
  {
   "cell_type": "code",
   "execution_count": 19,
   "id": "468179c0",
   "metadata": {},
   "outputs": [
    {
     "data": {
      "text/plain": [
       "<seaborn.axisgrid.FacetGrid at 0x113a446ed60>"
      ]
     },
     "execution_count": 19,
     "metadata": {},
     "output_type": "execute_result"
    },
    {
     "data": {
      "image/png": "[encoded data removed]",
      "text/plain": [
       "<Figure size 360x360 with 1 Axes>"
      ]
     },
     "metadata": {
      "needs_background": "light"
     },
     "output_type": "display_data"
    }
   ],
   "source": [
    "sns.relplot(y=\"year\", x=\"AveragePrice\",data=df)"
   ]
  },
  {
   "cell_type": "markdown",
   "id": "6b6839e4",
   "metadata": {},
   "source": [
    "We can observe that the AveragePrice reaches highest value in the year 2017 and 2016 than in 2015 and 2018"
   ]
  },
  {
   "cell_type": "code",
   "execution_count": 20,
   "id": "bb0fb906",
   "metadata": {},
   "outputs": [
    {
     "data": {
      "image/png": "[encoded data removed]",
      "text/plain": [
       "<Figure size 288x864 with 3 Axes>"
      ]
     },
     "metadata": {
      "needs_background": "light"
     },
     "output_type": "display_data"
    }
   ],
   "source": [
    "sns.pairplot(df, y_vars=['4046','4225','4770'], x_vars='AveragePrice', height=4, aspect=1, kind='reg')\n",
    "plt.show()"
   ]
  },
  {
   "cell_type": "markdown",
   "id": "e4462429",
   "metadata": {},
   "source": [
    "In this dataset the columns the numbers 4046, 4225 and 4770 tells the size of avocado as small, medium and large respectively and all the 3 columns has similar relation with AveragePrice "
   ]
  },
  {
   "cell_type": "code",
   "execution_count": 21,
   "id": "5dc22e0f",
   "metadata": {},
   "outputs": [
    {
     "data": {
      "image/png": "[encoded data removed]",
      "text/plain": [
       "<Figure size 288x864 with 3 Axes>"
      ]
     },
     "metadata": {
      "needs_background": "light"
     },
     "output_type": "display_data"
    }
   ],
   "source": [
    "sns.pairplot(df, y_vars=['Small Bags','Large Bags','XLarge Bags'], x_vars='Total Volume',kind='reg',height=4,aspect=1)\n",
    "plt.show()"
   ]
  },
  {
   "cell_type": "markdown",
   "id": "2dd06417",
   "metadata": {},
   "source": [
    "We can observe that the Small bag column has a good relation with Total volume column from the above graphs"
   ]
  },
  {
   "cell_type": "code",
   "execution_count": 22,
   "id": "34c3bb9a",
   "metadata": {},
   "outputs": [
    {
     "data": {
      "text/plain": [
       "Date            0\n",
       "AveragePrice    0\n",
       "Total Volume    0\n",
       "4046            0\n",
       "4225            0\n",
       "4770            0\n",
       "Total Bags      0\n",
       "Small Bags      0\n",
       "Large Bags      0\n",
       "XLarge Bags     0\n",
       "type            0\n",
       "year            0\n",
       "region          0\n",
       "dtype: int64"
      ]
     },
     "execution_count": 22,
     "metadata": {},
     "output_type": "execute_result"
    }
   ],
   "source": [
    "df.isnull().sum()"
   ]
  },
  {
   "cell_type": "code",
   "execution_count": 23,
   "id": "0c5f0d0f",
   "metadata": {},
   "outputs": [
    {
     "data": {
      "text/plain": [
       "<AxesSubplot:>"
      ]
     },
     "execution_count": 23,
     "metadata": {},
     "output_type": "execute_result"
    },
    {
     "data": {
      "image/png": "[encoded data removed]",
      "text/plain": [
       "<Figure size 432x288 with 2 Axes>"
      ]
     },
     "metadata": {
      "needs_background": "light"
     },
     "output_type": "display_data"
    }
   ],
   "source": [
    "sns.heatmap(df.isnull())"
   ]
  },
  {
   "cell_type": "markdown",
   "id": "b5abff45",
   "metadata": {},
   "source": [
    "We can observe that there is no missing values in the dataset"
   ]
  },
  {
   "cell_type": "code",
   "execution_count": 24,
   "id": "6e1b01ee",
   "metadata": {},
   "outputs": [],
   "source": [
    "from sklearn.preprocessing import LabelEncoder\n",
    "le = LabelEncoder()"
   ]
  },
  {
   "cell_type": "code",
   "execution_count": 25,
   "id": "3a8b077e",
   "metadata": {},
   "outputs": [],
   "source": [
    "cat_df=['Date','type','region']\n",
    "for columns in cat_df:\n",
    "    df[columns] = le.fit_transform(df[columns])"
   ]
  },
  {
   "cell_type": "code",
   "execution_count": 26,
   "id": "09ee29f8",
   "metadata": {},
   "outputs": [
    {
     "data": {
      "text/html": [
       "<div>\n",
       "<style scoped>\n",
       "    .dataframe tbody tr th:only-of-type {\n",
       "        vertical-align: middle;\n",
       "    }\n",
       "\n",
       "    .dataframe tbody tr th {\n",
       "        vertical-align: top;\n",
       "    }\n",
       "\n",
       "    .dataframe thead th {\n",
       "        text-align: right;\n",
       "    }\n",
       "</style>\n",
       "<table border=\"1\" class=\"dataframe\">\n",
       "  <thead>\n",
       "    <tr style=\"text-align: right;\">\n",
       "      <th></th>\n",
       "      <th>Date</th>\n",
       "      <th>AveragePrice</th>\n",
       "      <th>Total Volume</th>\n",
       "      <th>4046</th>\n",
       "      <th>4225</th>\n",
       "      <th>4770</th>\n",
       "      <th>Total Bags</th>\n",
       "      <th>Small Bags</th>\n",
       "      <th>Large Bags</th>\n",
       "      <th>XLarge Bags</th>\n",
       "      <th>type</th>\n",
       "      <th>year</th>\n",
       "      <th>region</th>\n",
       "    </tr>\n",
       "  </thead>\n",
       "  <tbody>\n",
       "    <tr>\n",
       "      <th>17283</th>\n",
       "      <td>105</td>\n",
       "      <td>1.16</td>\n",
       "      <td>4113.70</td>\n",
       "      <td>14.26</td>\n",
       "      <td>914.68</td>\n",
       "      <td>0.00</td>\n",
       "      <td>3184.76</td>\n",
       "      <td>168.63</td>\n",
       "      <td>3016.13</td>\n",
       "      <td>0.00</td>\n",
       "      <td>1</td>\n",
       "      <td>2017</td>\n",
       "      <td>47</td>\n",
       "    </tr>\n",
       "    <tr>\n",
       "      <th>7948</th>\n",
       "      <td>156</td>\n",
       "      <td>0.99</td>\n",
       "      <td>460716.58</td>\n",
       "      <td>210307.64</td>\n",
       "      <td>80809.78</td>\n",
       "      <td>3034.55</td>\n",
       "      <td>166564.61</td>\n",
       "      <td>124648.00</td>\n",
       "      <td>41191.56</td>\n",
       "      <td>725.05</td>\n",
       "      <td>0</td>\n",
       "      <td>2017</td>\n",
       "      <td>44</td>\n",
       "    </tr>\n",
       "    <tr>\n",
       "      <th>12414</th>\n",
       "      <td>90</td>\n",
       "      <td>1.35</td>\n",
       "      <td>16032.03</td>\n",
       "      <td>468.89</td>\n",
       "      <td>7138.63</td>\n",
       "      <td>0.00</td>\n",
       "      <td>8424.51</td>\n",
       "      <td>781.74</td>\n",
       "      <td>7642.77</td>\n",
       "      <td>0.00</td>\n",
       "      <td>1</td>\n",
       "      <td>2016</td>\n",
       "      <td>9</td>\n",
       "    </tr>\n",
       "    <tr>\n",
       "      <th>10231</th>\n",
       "      <td>38</td>\n",
       "      <td>1.85</td>\n",
       "      <td>5756.80</td>\n",
       "      <td>1243.87</td>\n",
       "      <td>4399.58</td>\n",
       "      <td>0.00</td>\n",
       "      <td>113.35</td>\n",
       "      <td>103.33</td>\n",
       "      <td>10.02</td>\n",
       "      <td>0.00</td>\n",
       "      <td>1</td>\n",
       "      <td>2015</td>\n",
       "      <td>21</td>\n",
       "    </tr>\n",
       "    <tr>\n",
       "      <th>12895</th>\n",
       "      <td>77</td>\n",
       "      <td>1.32</td>\n",
       "      <td>14968.56</td>\n",
       "      <td>9384.38</td>\n",
       "      <td>39.92</td>\n",
       "      <td>0.00</td>\n",
       "      <td>5544.26</td>\n",
       "      <td>4949.96</td>\n",
       "      <td>594.30</td>\n",
       "      <td>0.00</td>\n",
       "      <td>1</td>\n",
       "      <td>2016</td>\n",
       "      <td>18</td>\n",
       "    </tr>\n",
       "  </tbody>\n",
       "</table>\n",
       "</div>"
      ],
      "text/plain": [
       "       Date  AveragePrice  Total Volume       4046      4225     4770  \\\n",
       "17283   105          1.16       4113.70      14.26    914.68     0.00   \n",
       "7948    156          0.99     460716.58  210307.64  80809.78  3034.55   \n",
       "12414    90          1.35      16032.03     468.89   7138.63     0.00   \n",
       "10231    38          1.85       5756.80    1243.87   4399.58     0.00   \n",
       "12895    77          1.32      14968.56    9384.38     39.92     0.00   \n",
       "\n",
       "       Total Bags  Small Bags  Large Bags  XLarge Bags  type  year  region  \n",
       "17283     3184.76      168.63     3016.13         0.00     1  2017      47  \n",
       "7948    166564.61   124648.00    41191.56       725.05     0  2017      44  \n",
       "12414     8424.51      781.74     7642.77         0.00     1  2016       9  \n",
       "10231      113.35      103.33       10.02         0.00     1  2015      21  \n",
       "12895     5544.26     4949.96      594.30         0.00     1  2016      18  "
      ]
     },
     "execution_count": 26,
     "metadata": {},
     "output_type": "execute_result"
    }
   ],
   "source": [
    "df.sample(5)"
   ]
  },
  {
   "cell_type": "code",
   "execution_count": 27,
   "id": "e0abcab3",
   "metadata": {},
   "outputs": [
    {
     "data": {
      "text/html": [
       "<div>\n",
       "<style scoped>\n",
       "    .dataframe tbody tr th:only-of-type {\n",
       "        vertical-align: middle;\n",
       "    }\n",
       "\n",
       "    .dataframe tbody tr th {\n",
       "        vertical-align: top;\n",
       "    }\n",
       "\n",
       "    .dataframe thead th {\n",
       "        text-align: right;\n",
       "    }\n",
       "</style>\n",
       "<table border=\"1\" class=\"dataframe\">\n",
       "  <thead>\n",
       "    <tr style=\"text-align: right;\">\n",
       "      <th></th>\n",
       "      <th>Date</th>\n",
       "      <th>AveragePrice</th>\n",
       "      <th>Total Volume</th>\n",
       "      <th>4046</th>\n",
       "      <th>4225</th>\n",
       "      <th>4770</th>\n",
       "      <th>Total Bags</th>\n",
       "      <th>Small Bags</th>\n",
       "      <th>Large Bags</th>\n",
       "      <th>XLarge Bags</th>\n",
       "      <th>type</th>\n",
       "      <th>year</th>\n",
       "      <th>region</th>\n",
       "    </tr>\n",
       "  </thead>\n",
       "  <tbody>\n",
       "    <tr>\n",
       "      <th>count</th>\n",
       "      <td>18249.000000</td>\n",
       "      <td>18249.000000</td>\n",
       "      <td>1.824900e+04</td>\n",
       "      <td>1.824900e+04</td>\n",
       "      <td>1.824900e+04</td>\n",
       "      <td>1.824900e+04</td>\n",
       "      <td>1.824900e+04</td>\n",
       "      <td>1.824900e+04</td>\n",
       "      <td>1.824900e+04</td>\n",
       "      <td>18249.000000</td>\n",
       "      <td>18249.000000</td>\n",
       "      <td>18249.000000</td>\n",
       "      <td>18249.000000</td>\n",
       "    </tr>\n",
       "    <tr>\n",
       "      <th>mean</th>\n",
       "      <td>83.997096</td>\n",
       "      <td>1.405978</td>\n",
       "      <td>8.506440e+05</td>\n",
       "      <td>2.930084e+05</td>\n",
       "      <td>2.951546e+05</td>\n",
       "      <td>2.283974e+04</td>\n",
       "      <td>2.396392e+05</td>\n",
       "      <td>1.821947e+05</td>\n",
       "      <td>5.433809e+04</td>\n",
       "      <td>3106.426507</td>\n",
       "      <td>0.499918</td>\n",
       "      <td>2016.147899</td>\n",
       "      <td>26.495644</td>\n",
       "    </tr>\n",
       "    <tr>\n",
       "      <th>std</th>\n",
       "      <td>48.787638</td>\n",
       "      <td>0.402677</td>\n",
       "      <td>3.453545e+06</td>\n",
       "      <td>1.264989e+06</td>\n",
       "      <td>1.204120e+06</td>\n",
       "      <td>1.074641e+05</td>\n",
       "      <td>9.862424e+05</td>\n",
       "      <td>7.461785e+05</td>\n",
       "      <td>2.439660e+05</td>\n",
       "      <td>17692.894652</td>\n",
       "      <td>0.500014</td>\n",
       "      <td>0.939938</td>\n",
       "      <td>15.583788</td>\n",
       "    </tr>\n",
       "    <tr>\n",
       "      <th>min</th>\n",
       "      <td>0.000000</td>\n",
       "      <td>0.440000</td>\n",
       "      <td>8.456000e+01</td>\n",
       "      <td>0.000000e+00</td>\n",
       "      <td>0.000000e+00</td>\n",
       "      <td>0.000000e+00</td>\n",
       "      <td>0.000000e+00</td>\n",
       "      <td>0.000000e+00</td>\n",
       "      <td>0.000000e+00</td>\n",
       "      <td>0.000000</td>\n",
       "      <td>0.000000</td>\n",
       "      <td>2015.000000</td>\n",
       "      <td>0.000000</td>\n",
       "    </tr>\n",
       "    <tr>\n",
       "      <th>25%</th>\n",
       "      <td>42.000000</td>\n",
       "      <td>1.100000</td>\n",
       "      <td>1.083858e+04</td>\n",
       "      <td>8.540700e+02</td>\n",
       "      <td>3.008780e+03</td>\n",
       "      <td>0.000000e+00</td>\n",
       "      <td>5.088640e+03</td>\n",
       "      <td>2.849420e+03</td>\n",
       "      <td>1.274700e+02</td>\n",
       "      <td>0.000000</td>\n",
       "      <td>0.000000</td>\n",
       "      <td>2015.000000</td>\n",
       "      <td>13.000000</td>\n",
       "    </tr>\n",
       "    <tr>\n",
       "      <th>50%</th>\n",
       "      <td>84.000000</td>\n",
       "      <td>1.370000</td>\n",
       "      <td>1.073768e+05</td>\n",
       "      <td>8.645300e+03</td>\n",
       "      <td>2.906102e+04</td>\n",
       "      <td>1.849900e+02</td>\n",
       "      <td>3.974383e+04</td>\n",
       "      <td>2.636282e+04</td>\n",
       "      <td>2.647710e+03</td>\n",
       "      <td>0.000000</td>\n",
       "      <td>0.000000</td>\n",
       "      <td>2016.000000</td>\n",
       "      <td>26.000000</td>\n",
       "    </tr>\n",
       "    <tr>\n",
       "      <th>75%</th>\n",
       "      <td>126.000000</td>\n",
       "      <td>1.660000</td>\n",
       "      <td>4.329623e+05</td>\n",
       "      <td>1.110202e+05</td>\n",
       "      <td>1.502069e+05</td>\n",
       "      <td>6.243420e+03</td>\n",
       "      <td>1.107834e+05</td>\n",
       "      <td>8.333767e+04</td>\n",
       "      <td>2.202925e+04</td>\n",
       "      <td>132.500000</td>\n",
       "      <td>1.000000</td>\n",
       "      <td>2017.000000</td>\n",
       "      <td>40.000000</td>\n",
       "    </tr>\n",
       "    <tr>\n",
       "      <th>max</th>\n",
       "      <td>168.000000</td>\n",
       "      <td>3.250000</td>\n",
       "      <td>6.250565e+07</td>\n",
       "      <td>2.274362e+07</td>\n",
       "      <td>2.047057e+07</td>\n",
       "      <td>2.546439e+06</td>\n",
       "      <td>1.937313e+07</td>\n",
       "      <td>1.338459e+07</td>\n",
       "      <td>5.719097e+06</td>\n",
       "      <td>551693.650000</td>\n",
       "      <td>1.000000</td>\n",
       "      <td>2018.000000</td>\n",
       "      <td>53.000000</td>\n",
       "    </tr>\n",
       "  </tbody>\n",
       "</table>\n",
       "</div>"
      ],
      "text/plain": [
       "               Date  AveragePrice  Total Volume          4046          4225  \\\n",
       "count  18249.000000  18249.000000  1.824900e+04  1.824900e+04  1.824900e+04   \n",
       "mean      83.997096      1.405978  8.506440e+05  2.930084e+05  2.951546e+05   \n",
       "std       48.787638      0.402677  3.453545e+06  1.264989e+06  1.204120e+06   \n",
       "min        0.000000      0.440000  8.456000e+01  0.000000e+00  0.000000e+00   \n",
       "25%       42.000000      1.100000  1.083858e+04  8.540700e+02  3.008780e+03   \n",
       "50%       84.000000      1.370000  1.073768e+05  8.645300e+03  2.906102e+04   \n",
       "75%      126.000000      1.660000  4.329623e+05  1.110202e+05  1.502069e+05   \n",
       "max      168.000000      3.250000  6.250565e+07  2.274362e+07  2.047057e+07   \n",
       "\n",
       "               4770    Total Bags    Small Bags    Large Bags    XLarge Bags  \\\n",
       "count  1.824900e+04  1.824900e+04  1.824900e+04  1.824900e+04   18249.000000   \n",
       "mean   2.283974e+04  2.396392e+05  1.821947e+05  5.433809e+04    3106.426507   \n",
       "std    1.074641e+05  9.862424e+05  7.461785e+05  2.439660e+05   17692.894652   \n",
       "min    0.000000e+00  0.000000e+00  0.000000e+00  0.000000e+00       0.000000   \n",
       "25%    0.000000e+00  5.088640e+03  2.849420e+03  1.274700e+02       0.000000   \n",
       "50%    1.849900e+02  3.974383e+04  2.636282e+04  2.647710e+03       0.000000   \n",
       "75%    6.243420e+03  1.107834e+05  8.333767e+04  2.202925e+04     132.500000   \n",
       "max    2.546439e+06  1.937313e+07  1.338459e+07  5.719097e+06  551693.650000   \n",
       "\n",
       "               type          year        region  \n",
       "count  18249.000000  18249.000000  18249.000000  \n",
       "mean       0.499918   2016.147899     26.495644  \n",
       "std        0.500014      0.939938     15.583788  \n",
       "min        0.000000   2015.000000      0.000000  \n",
       "25%        0.000000   2015.000000     13.000000  \n",
       "50%        0.000000   2016.000000     26.000000  \n",
       "75%        1.000000   2017.000000     40.000000  \n",
       "max        1.000000   2018.000000     53.000000  "
      ]
     },
     "execution_count": 27,
     "metadata": {},
     "output_type": "execute_result"
    }
   ],
   "source": [
    "df.describe()"
   ]
  },
  {
   "cell_type": "markdown",
   "id": "7d64bebf",
   "metadata": {},
   "source": [
    "Key observations:\n",
    "* Mean > median in Total Volume, 4046, 4225, 4770, Total bags, small bags, Large bags, Xlarge bags, hence skewness present in these column\n",
    "* Outliers are present in all the columns except type, region, year and date, as there is high difference between 75th percentile and max\n",
    "* We can see that there is a high gap between mean and std, hence the data is highly spreaded"
   ]
  },
  {
   "cell_type": "code",
   "execution_count": 28,
   "id": "6077f524",
   "metadata": {},
   "outputs": [
    {
     "data": {
      "text/html": [
       "<div>\n",
       "<style scoped>\n",
       "    .dataframe tbody tr th:only-of-type {\n",
       "        vertical-align: middle;\n",
       "    }\n",
       "\n",
       "    .dataframe tbody tr th {\n",
       "        vertical-align: top;\n",
       "    }\n",
       "\n",
       "    .dataframe thead th {\n",
       "        text-align: right;\n",
       "    }\n",
       "</style>\n",
       "<table border=\"1\" class=\"dataframe\">\n",
       "  <thead>\n",
       "    <tr style=\"text-align: right;\">\n",
       "      <th></th>\n",
       "      <th>Date</th>\n",
       "      <th>AveragePrice</th>\n",
       "      <th>Total Volume</th>\n",
       "      <th>4046</th>\n",
       "      <th>4225</th>\n",
       "      <th>4770</th>\n",
       "      <th>Total Bags</th>\n",
       "      <th>Small Bags</th>\n",
       "      <th>Large Bags</th>\n",
       "      <th>XLarge Bags</th>\n",
       "      <th>type</th>\n",
       "      <th>year</th>\n",
       "      <th>region</th>\n",
       "    </tr>\n",
       "  </thead>\n",
       "  <tbody>\n",
       "    <tr>\n",
       "      <th>Date</th>\n",
       "      <td>1.000000</td>\n",
       "      <td>0.145514</td>\n",
       "      <td>0.009263</td>\n",
       "      <td>-0.005028</td>\n",
       "      <td>-0.016895</td>\n",
       "      <td>-0.047517</td>\n",
       "      <td>0.064688</td>\n",
       "      <td>0.056902</td>\n",
       "      <td>0.081855</td>\n",
       "      <td>0.077374</td>\n",
       "      <td>-0.000060</td>\n",
       "      <td>0.950274</td>\n",
       "      <td>-0.000101</td>\n",
       "    </tr>\n",
       "    <tr>\n",
       "      <th>AveragePrice</th>\n",
       "      <td>0.145514</td>\n",
       "      <td>1.000000</td>\n",
       "      <td>-0.192752</td>\n",
       "      <td>-0.208317</td>\n",
       "      <td>-0.172928</td>\n",
       "      <td>-0.179446</td>\n",
       "      <td>-0.177088</td>\n",
       "      <td>-0.174730</td>\n",
       "      <td>-0.172940</td>\n",
       "      <td>-0.117592</td>\n",
       "      <td>0.615845</td>\n",
       "      <td>0.093197</td>\n",
       "      <td>-0.011716</td>\n",
       "    </tr>\n",
       "    <tr>\n",
       "      <th>Total Volume</th>\n",
       "      <td>0.009263</td>\n",
       "      <td>-0.192752</td>\n",
       "      <td>1.000000</td>\n",
       "      <td>0.977863</td>\n",
       "      <td>0.974181</td>\n",
       "      <td>0.872202</td>\n",
       "      <td>0.963047</td>\n",
       "      <td>0.967238</td>\n",
       "      <td>0.880640</td>\n",
       "      <td>0.747157</td>\n",
       "      <td>-0.232434</td>\n",
       "      <td>0.017193</td>\n",
       "      <td>0.174176</td>\n",
       "    </tr>\n",
       "    <tr>\n",
       "      <th>4046</th>\n",
       "      <td>-0.005028</td>\n",
       "      <td>-0.208317</td>\n",
       "      <td>0.977863</td>\n",
       "      <td>1.000000</td>\n",
       "      <td>0.926110</td>\n",
       "      <td>0.833389</td>\n",
       "      <td>0.920057</td>\n",
       "      <td>0.925280</td>\n",
       "      <td>0.838645</td>\n",
       "      <td>0.699377</td>\n",
       "      <td>-0.225819</td>\n",
       "      <td>0.003353</td>\n",
       "      <td>0.192073</td>\n",
       "    </tr>\n",
       "    <tr>\n",
       "      <th>4225</th>\n",
       "      <td>-0.016895</td>\n",
       "      <td>-0.172928</td>\n",
       "      <td>0.974181</td>\n",
       "      <td>0.926110</td>\n",
       "      <td>1.000000</td>\n",
       "      <td>0.887855</td>\n",
       "      <td>0.905787</td>\n",
       "      <td>0.916031</td>\n",
       "      <td>0.810015</td>\n",
       "      <td>0.688809</td>\n",
       "      <td>-0.232289</td>\n",
       "      <td>-0.009559</td>\n",
       "      <td>0.145726</td>\n",
       "    </tr>\n",
       "    <tr>\n",
       "      <th>4770</th>\n",
       "      <td>-0.047517</td>\n",
       "      <td>-0.179446</td>\n",
       "      <td>0.872202</td>\n",
       "      <td>0.833389</td>\n",
       "      <td>0.887855</td>\n",
       "      <td>1.000000</td>\n",
       "      <td>0.792314</td>\n",
       "      <td>0.802733</td>\n",
       "      <td>0.698471</td>\n",
       "      <td>0.679861</td>\n",
       "      <td>-0.210027</td>\n",
       "      <td>-0.036531</td>\n",
       "      <td>0.095252</td>\n",
       "    </tr>\n",
       "    <tr>\n",
       "      <th>Total Bags</th>\n",
       "      <td>0.064688</td>\n",
       "      <td>-0.177088</td>\n",
       "      <td>0.963047</td>\n",
       "      <td>0.920057</td>\n",
       "      <td>0.905787</td>\n",
       "      <td>0.792314</td>\n",
       "      <td>1.000000</td>\n",
       "      <td>0.994335</td>\n",
       "      <td>0.943009</td>\n",
       "      <td>0.804233</td>\n",
       "      <td>-0.217788</td>\n",
       "      <td>0.071552</td>\n",
       "      <td>0.175256</td>\n",
       "    </tr>\n",
       "    <tr>\n",
       "      <th>Small Bags</th>\n",
       "      <td>0.056902</td>\n",
       "      <td>-0.174730</td>\n",
       "      <td>0.967238</td>\n",
       "      <td>0.925280</td>\n",
       "      <td>0.916031</td>\n",
       "      <td>0.802733</td>\n",
       "      <td>0.994335</td>\n",
       "      <td>1.000000</td>\n",
       "      <td>0.902589</td>\n",
       "      <td>0.806845</td>\n",
       "      <td>-0.220535</td>\n",
       "      <td>0.063915</td>\n",
       "      <td>0.164702</td>\n",
       "    </tr>\n",
       "    <tr>\n",
       "      <th>Large Bags</th>\n",
       "      <td>0.081855</td>\n",
       "      <td>-0.172940</td>\n",
       "      <td>0.880640</td>\n",
       "      <td>0.838645</td>\n",
       "      <td>0.810015</td>\n",
       "      <td>0.698471</td>\n",
       "      <td>0.943009</td>\n",
       "      <td>0.902589</td>\n",
       "      <td>1.000000</td>\n",
       "      <td>0.710858</td>\n",
       "      <td>-0.193177</td>\n",
       "      <td>0.087891</td>\n",
       "      <td>0.198768</td>\n",
       "    </tr>\n",
       "    <tr>\n",
       "      <th>XLarge Bags</th>\n",
       "      <td>0.077374</td>\n",
       "      <td>-0.117592</td>\n",
       "      <td>0.747157</td>\n",
       "      <td>0.699377</td>\n",
       "      <td>0.688809</td>\n",
       "      <td>0.679861</td>\n",
       "      <td>0.804233</td>\n",
       "      <td>0.806845</td>\n",
       "      <td>0.710858</td>\n",
       "      <td>1.000000</td>\n",
       "      <td>-0.175483</td>\n",
       "      <td>0.081033</td>\n",
       "      <td>0.082281</td>\n",
       "    </tr>\n",
       "    <tr>\n",
       "      <th>type</th>\n",
       "      <td>-0.000060</td>\n",
       "      <td>0.615845</td>\n",
       "      <td>-0.232434</td>\n",
       "      <td>-0.225819</td>\n",
       "      <td>-0.232289</td>\n",
       "      <td>-0.210027</td>\n",
       "      <td>-0.217788</td>\n",
       "      <td>-0.220535</td>\n",
       "      <td>-0.193177</td>\n",
       "      <td>-0.175483</td>\n",
       "      <td>1.000000</td>\n",
       "      <td>-0.000032</td>\n",
       "      <td>-0.000280</td>\n",
       "    </tr>\n",
       "    <tr>\n",
       "      <th>year</th>\n",
       "      <td>0.950274</td>\n",
       "      <td>0.093197</td>\n",
       "      <td>0.017193</td>\n",
       "      <td>0.003353</td>\n",
       "      <td>-0.009559</td>\n",
       "      <td>-0.036531</td>\n",
       "      <td>0.071552</td>\n",
       "      <td>0.063915</td>\n",
       "      <td>0.087891</td>\n",
       "      <td>0.081033</td>\n",
       "      <td>-0.000032</td>\n",
       "      <td>1.000000</td>\n",
       "      <td>-0.000055</td>\n",
       "    </tr>\n",
       "    <tr>\n",
       "      <th>region</th>\n",
       "      <td>-0.000101</td>\n",
       "      <td>-0.011716</td>\n",
       "      <td>0.174176</td>\n",
       "      <td>0.192073</td>\n",
       "      <td>0.145726</td>\n",
       "      <td>0.095252</td>\n",
       "      <td>0.175256</td>\n",
       "      <td>0.164702</td>\n",
       "      <td>0.198768</td>\n",
       "      <td>0.082281</td>\n",
       "      <td>-0.000280</td>\n",
       "      <td>-0.000055</td>\n",
       "      <td>1.000000</td>\n",
       "    </tr>\n",
       "  </tbody>\n",
       "</table>\n",
       "</div>"
      ],
      "text/plain": [
       "                  Date  AveragePrice  Total Volume      4046      4225  \\\n",
       "Date          1.000000      0.145514      0.009263 -0.005028 -0.016895   \n",
       "AveragePrice  0.145514      1.000000     -0.192752 -0.208317 -0.172928   \n",
       "Total Volume  0.009263     -0.192752      1.000000  0.977863  0.974181   \n",
       "4046         -0.005028     -0.208317      0.977863  1.000000  0.926110   \n",
       "4225         -0.016895     -0.172928      0.974181  0.926110  1.000000   \n",
       "4770         -0.047517     -0.179446      0.872202  0.833389  0.887855   \n",
       "Total Bags    0.064688     -0.177088      0.963047  0.920057  0.905787   \n",
       "Small Bags    0.056902     -0.174730      0.967238  0.925280  0.916031   \n",
       "Large Bags    0.081855     -0.172940      0.880640  0.838645  0.810015   \n",
       "XLarge Bags   0.077374     -0.117592      0.747157  0.699377  0.688809   \n",
       "type         -0.000060      0.615845     -0.232434 -0.225819 -0.232289   \n",
       "year          0.950274      0.093197      0.017193  0.003353 -0.009559   \n",
       "region       -0.000101     -0.011716      0.174176  0.192073  0.145726   \n",
       "\n",
       "                  4770  Total Bags  Small Bags  Large Bags  XLarge Bags  \\\n",
       "Date         -0.047517    0.064688    0.056902    0.081855     0.077374   \n",
       "AveragePrice -0.179446   -0.177088   -0.174730   -0.172940    -0.117592   \n",
       "Total Volume  0.872202    0.963047    0.967238    0.880640     0.747157   \n",
       "4046          0.833389    0.920057    0.925280    0.838645     0.699377   \n",
       "4225          0.887855    0.905787    0.916031    0.810015     0.688809   \n",
       "4770          1.000000    0.792314    0.802733    0.698471     0.679861   \n",
       "Total Bags    0.792314    1.000000    0.994335    0.943009     0.804233   \n",
       "Small Bags    0.802733    0.994335    1.000000    0.902589     0.806845   \n",
       "Large Bags    0.698471    0.943009    0.902589    1.000000     0.710858   \n",
       "XLarge Bags   0.679861    0.804233    0.806845    0.710858     1.000000   \n",
       "type         -0.210027   -0.217788   -0.220535   -0.193177    -0.175483   \n",
       "year         -0.036531    0.071552    0.063915    0.087891     0.081033   \n",
       "region        0.095252    0.175256    0.164702    0.198768     0.082281   \n",
       "\n",
       "                  type      year    region  \n",
       "Date         -0.000060  0.950274 -0.000101  \n",
       "AveragePrice  0.615845  0.093197 -0.011716  \n",
       "Total Volume -0.232434  0.017193  0.174176  \n",
       "4046         -0.225819  0.003353  0.192073  \n",
       "4225         -0.232289 -0.009559  0.145726  \n",
       "4770         -0.210027 -0.036531  0.095252  \n",
       "Total Bags   -0.217788  0.071552  0.175256  \n",
       "Small Bags   -0.220535  0.063915  0.164702  \n",
       "Large Bags   -0.193177  0.087891  0.198768  \n",
       "XLarge Bags  -0.175483  0.081033  0.082281  \n",
       "type          1.000000 -0.000032 -0.000280  \n",
       "year         -0.000032  1.000000 -0.000055  \n",
       "region       -0.000280 -0.000055  1.000000  "
      ]
     },
     "execution_count": 28,
     "metadata": {},
     "output_type": "execute_result"
    }
   ],
   "source": [
    "df.corr()"
   ]
  },
  {
   "cell_type": "code",
   "execution_count": 29,
   "id": "ba8905f2",
   "metadata": {},
   "outputs": [
    {
     "data": {
      "text/plain": [
       "<AxesSubplot:>"
      ]
     },
     "execution_count": 29,
     "metadata": {},
     "output_type": "execute_result"
    },
    {
     "data": {
      "image/png": "[encoded data removed]",
      "text/plain": [
       "<Figure size 1008x576 with 2 Axes>"
      ]
     },
     "metadata": {
      "needs_background": "light"
     },
     "output_type": "display_data"
    }
   ],
   "source": [
    "plt.figure(figsize = (14,8))\n",
    "sns.heatmap(df.corr(),cmap='Blues',annot=True)"
   ]
  },
  {
   "cell_type": "markdown",
   "id": "153746b1",
   "metadata": {},
   "source": [
    "Observations:\n",
    "* AveragePrice is high correlation only with type and has negative correlation with other columns\n",
    "* Total bags has a good correlation with small bags and total volume\n",
    "* Total volume and 4046 are highly correlated"
   ]
  },
  {
   "cell_type": "code",
   "execution_count": 30,
   "id": "53774ce2",
   "metadata": {},
   "outputs": [
    {
     "data": {
      "text/plain": [
       "Date               AxesSubplot(0.125,0.657941;0.133621x0.222059)\n",
       "AveragePrice    AxesSubplot(0.285345,0.657941;0.133621x0.222059)\n",
       "Total Volume     AxesSubplot(0.44569,0.657941;0.133621x0.222059)\n",
       "4046            AxesSubplot(0.606034,0.657941;0.133621x0.222059)\n",
       "4225            AxesSubplot(0.766379,0.657941;0.133621x0.222059)\n",
       "4770               AxesSubplot(0.125,0.391471;0.133621x0.222059)\n",
       "Total Bags      AxesSubplot(0.285345,0.391471;0.133621x0.222059)\n",
       "Small Bags       AxesSubplot(0.44569,0.391471;0.133621x0.222059)\n",
       "Large Bags      AxesSubplot(0.606034,0.391471;0.133621x0.222059)\n",
       "XLarge Bags     AxesSubplot(0.766379,0.391471;0.133621x0.222059)\n",
       "type                  AxesSubplot(0.125,0.125;0.133621x0.222059)\n",
       "year               AxesSubplot(0.285345,0.125;0.133621x0.222059)\n",
       "region              AxesSubplot(0.44569,0.125;0.133621x0.222059)\n",
       "dtype: object"
      ]
     },
     "execution_count": 30,
     "metadata": {},
     "output_type": "execute_result"
    },
    {
     "data": {
      "image/png": "[encoded data removed]",
      "text/plain": [
       "<Figure size 1080x720 with 15 Axes>"
      ]
     },
     "metadata": {
      "needs_background": "light"
     },
     "output_type": "display_data"
    }
   ],
   "source": [
    "df.plot(kind='box',subplots=True,layout=(3,5),figsize=(15,10))"
   ]
  },
  {
   "cell_type": "code",
   "execution_count": 31,
   "id": "c374befc",
   "metadata": {},
   "outputs": [
    {
     "data": {
      "text/html": [
       "<div>\n",
       "<style scoped>\n",
       "    .dataframe tbody tr th:only-of-type {\n",
       "        vertical-align: middle;\n",
       "    }\n",
       "\n",
       "    .dataframe tbody tr th {\n",
       "        vertical-align: top;\n",
       "    }\n",
       "\n",
       "    .dataframe thead th {\n",
       "        text-align: right;\n",
       "    }\n",
       "</style>\n",
       "<table border=\"1\" class=\"dataframe\">\n",
       "  <thead>\n",
       "    <tr style=\"text-align: right;\">\n",
       "      <th></th>\n",
       "      <th>Date</th>\n",
       "      <th>AveragePrice</th>\n",
       "      <th>Total Volume</th>\n",
       "      <th>4046</th>\n",
       "      <th>4225</th>\n",
       "      <th>4770</th>\n",
       "      <th>Total Bags</th>\n",
       "      <th>Small Bags</th>\n",
       "      <th>Large Bags</th>\n",
       "      <th>XLarge Bags</th>\n",
       "      <th>type</th>\n",
       "      <th>year</th>\n",
       "      <th>region</th>\n",
       "    </tr>\n",
       "  </thead>\n",
       "  <tbody>\n",
       "    <tr>\n",
       "      <th>1144</th>\n",
       "      <td>51</td>\n",
       "      <td>0.80</td>\n",
       "      <td>2326942.14</td>\n",
       "      <td>976982.58</td>\n",
       "      <td>455203.42</td>\n",
       "      <td>86202.11</td>\n",
       "      <td>808554.03</td>\n",
       "      <td>722787.61</td>\n",
       "      <td>74359.03</td>\n",
       "      <td>11407.39</td>\n",
       "      <td>0</td>\n",
       "      <td>2015</td>\n",
       "      <td>22</td>\n",
       "    </tr>\n",
       "    <tr>\n",
       "      <th>6330</th>\n",
       "      <td>131</td>\n",
       "      <td>0.99</td>\n",
       "      <td>502774.82</td>\n",
       "      <td>119584.90</td>\n",
       "      <td>56064.04</td>\n",
       "      <td>43719.76</td>\n",
       "      <td>283406.12</td>\n",
       "      <td>232206.09</td>\n",
       "      <td>28983.01</td>\n",
       "      <td>22217.02</td>\n",
       "      <td>0</td>\n",
       "      <td>2017</td>\n",
       "      <td>13</td>\n",
       "    </tr>\n",
       "    <tr>\n",
       "      <th>14835</th>\n",
       "      <td>115</td>\n",
       "      <td>1.23</td>\n",
       "      <td>11754.42</td>\n",
       "      <td>1756.42</td>\n",
       "      <td>4656.72</td>\n",
       "      <td>0.00</td>\n",
       "      <td>5341.28</td>\n",
       "      <td>125.41</td>\n",
       "      <td>5215.87</td>\n",
       "      <td>0.00</td>\n",
       "      <td>1</td>\n",
       "      <td>2017</td>\n",
       "      <td>1</td>\n",
       "    </tr>\n",
       "    <tr>\n",
       "      <th>3373</th>\n",
       "      <td>58</td>\n",
       "      <td>0.91</td>\n",
       "      <td>173980.10</td>\n",
       "      <td>82198.65</td>\n",
       "      <td>38935.77</td>\n",
       "      <td>17174.63</td>\n",
       "      <td>35671.05</td>\n",
       "      <td>27386.88</td>\n",
       "      <td>7182.14</td>\n",
       "      <td>1102.03</td>\n",
       "      <td>0</td>\n",
       "      <td>2016</td>\n",
       "      <td>10</td>\n",
       "    </tr>\n",
       "    <tr>\n",
       "      <th>16159</th>\n",
       "      <td>116</td>\n",
       "      <td>0.77</td>\n",
       "      <td>9755.34</td>\n",
       "      <td>422.08</td>\n",
       "      <td>1987.08</td>\n",
       "      <td>0.00</td>\n",
       "      <td>7346.18</td>\n",
       "      <td>218.01</td>\n",
       "      <td>7128.17</td>\n",
       "      <td>0.00</td>\n",
       "      <td>1</td>\n",
       "      <td>2017</td>\n",
       "      <td>26</td>\n",
       "    </tr>\n",
       "  </tbody>\n",
       "</table>\n",
       "</div>"
      ],
      "text/plain": [
       "       Date  AveragePrice  Total Volume       4046       4225      4770  \\\n",
       "1144     51          0.80    2326942.14  976982.58  455203.42  86202.11   \n",
       "6330    131          0.99     502774.82  119584.90   56064.04  43719.76   \n",
       "14835   115          1.23      11754.42    1756.42    4656.72      0.00   \n",
       "3373     58          0.91     173980.10   82198.65   38935.77  17174.63   \n",
       "16159   116          0.77       9755.34     422.08    1987.08      0.00   \n",
       "\n",
       "       Total Bags  Small Bags  Large Bags  XLarge Bags  type  year  region  \n",
       "1144    808554.03   722787.61    74359.03     11407.39     0  2015      22  \n",
       "6330    283406.12   232206.09    28983.01     22217.02     0  2017      13  \n",
       "14835     5341.28      125.41     5215.87         0.00     1  2017       1  \n",
       "3373     35671.05    27386.88     7182.14      1102.03     0  2016      10  \n",
       "16159     7346.18      218.01     7128.17         0.00     1  2017      26  "
      ]
     },
     "execution_count": 31,
     "metadata": {},
     "output_type": "execute_result"
    }
   ],
   "source": [
    "# To remove the outliers\n",
    "from scipy.stats import zscore\n",
    "z=np.abs(zscore(df))\n",
    "df_new=df[(z<3).all(axis=1)]\n",
    "df_new.sample(5)"
   ]
  },
  {
   "cell_type": "code",
   "execution_count": 32,
   "id": "32f658bc",
   "metadata": {},
   "outputs": [
    {
     "data": {
      "text/plain": [
       "(17651, 13)"
      ]
     },
     "execution_count": 32,
     "metadata": {},
     "output_type": "execute_result"
    }
   ],
   "source": [
    "df_new.shape"
   ]
  },
  {
   "cell_type": "markdown",
   "id": "227a6029",
   "metadata": {},
   "source": [
    "* There are 17651 rows and 13 columns in new dataset after removing outliers."
   ]
  },
  {
   "cell_type": "code",
   "execution_count": 33,
   "id": "ee27a638",
   "metadata": {},
   "outputs": [
    {
     "data": {
      "text/plain": [
       "(18249, 13)"
      ]
     },
     "execution_count": 33,
     "metadata": {},
     "output_type": "execute_result"
    }
   ],
   "source": [
    "df.shape"
   ]
  },
  {
   "cell_type": "markdown",
   "id": "2ffe0e04",
   "metadata": {},
   "source": [
    "* There are 18249 rows and 13 columns in old dataset"
   ]
  },
  {
   "cell_type": "code",
   "execution_count": 34,
   "id": "ff93ed65",
   "metadata": {},
   "outputs": [
    {
     "data": {
      "text/plain": [
       "3.276891884486821"
      ]
     },
     "execution_count": 34,
     "metadata": {},
     "output_type": "execute_result"
    }
   ],
   "source": [
    "# Now we can check for data loss\n",
    "\n",
    "Dataloss = (((18249-17651)/18249)*100)\n",
    "Dataloss"
   ]
  },
  {
   "cell_type": "markdown",
   "id": "4d2a83d1",
   "metadata": {},
   "source": [
    "We can observe that dataloss in zscore method after removing outliers of 3.27% which is less than 10%"
   ]
  },
  {
   "cell_type": "code",
   "execution_count": 35,
   "id": "ed6c9ca2",
   "metadata": {},
   "outputs": [
    {
     "data": {
      "text/plain": [
       "Date            0.013714\n",
       "AveragePrice    0.377432\n",
       "Total Volume    3.767138\n",
       "4046            4.909848\n",
       "4225            4.455745\n",
       "4770            5.117170\n",
       "Total Bags      4.066771\n",
       "Small Bags      4.222706\n",
       "Large Bags      5.053434\n",
       "XLarge Bags     6.135607\n",
       "type           -0.037741\n",
       "year            0.229976\n",
       "region          0.012798\n",
       "dtype: float64"
      ]
     },
     "execution_count": 35,
     "metadata": {},
     "output_type": "execute_result"
    }
   ],
   "source": [
    "df_new.skew()"
   ]
  },
  {
   "cell_type": "code",
   "execution_count": 36,
   "id": "00137c15",
   "metadata": {},
   "outputs": [],
   "source": [
    "# we can observe that there is skewness present in the data in case of Total volume, 4046, 4225, 4770, Total Bags, Small Bags, Large Bags, XLarge Bags\n",
    "\n",
    "from sklearn.preprocessing import PowerTransformer\n",
    "scaler = PowerTransformer(method='yeo-johnson')"
   ]
  },
  {
   "cell_type": "code",
   "execution_count": 37,
   "id": "5f703b2e",
   "metadata": {},
   "outputs": [],
   "source": [
    "df_new[['Total Volume', '4046', '4225', '4770', 'Total Bags', 'Small Bags', 'Large Bags', 'XLarge Bags']] = scaler.fit_transform(df_new[['Total Volume', '4046', '4225', '4770', 'Total Bags', 'Small Bags', 'Large Bags', 'XLarge Bags']].values)"
   ]
  },
  {
   "cell_type": "code",
   "execution_count": 38,
   "id": "da418864",
   "metadata": {},
   "outputs": [
    {
     "data": {
      "text/plain": [
       "Date            0.013714\n",
       "AveragePrice    0.377432\n",
       "Total Volume   -0.008642\n",
       "4046           -0.039282\n",
       "4225           -0.044675\n",
       "4770            0.024168\n",
       "Total Bags     -0.022204\n",
       "Small Bags     -0.024405\n",
       "Large Bags     -0.110913\n",
       "XLarge Bags     0.853758\n",
       "type           -0.037741\n",
       "year            0.229976\n",
       "region          0.012798\n",
       "dtype: float64"
      ]
     },
     "execution_count": 38,
     "metadata": {},
     "output_type": "execute_result"
    }
   ],
   "source": [
    "df_new.skew()"
   ]
  },
  {
   "cell_type": "markdown",
   "id": "6d7d34c8",
   "metadata": {},
   "source": [
    "Hence the skewness is removed from the data"
   ]
  },
  {
   "cell_type": "markdown",
   "id": "aa94df39",
   "metadata": {},
   "source": [
    "# Avocado AveragePrice Prediction using regressors"
   ]
  },
  {
   "cell_type": "markdown",
   "id": "aae5ab1d",
   "metadata": {},
   "source": [
    "We can now check for multicolinearity"
   ]
  },
  {
   "cell_type": "code",
   "execution_count": 39,
   "id": "caad950a",
   "metadata": {},
   "outputs": [
    {
     "data": {
      "text/html": [
       "<div>\n",
       "<style scoped>\n",
       "    .dataframe tbody tr th:only-of-type {\n",
       "        vertical-align: middle;\n",
       "    }\n",
       "\n",
       "    .dataframe tbody tr th {\n",
       "        vertical-align: top;\n",
       "    }\n",
       "\n",
       "    .dataframe thead th {\n",
       "        text-align: right;\n",
       "    }\n",
       "</style>\n",
       "<table border=\"1\" class=\"dataframe\">\n",
       "  <thead>\n",
       "    <tr style=\"text-align: right;\">\n",
       "      <th></th>\n",
       "      <th>Date</th>\n",
       "      <th>Total Volume</th>\n",
       "      <th>4046</th>\n",
       "      <th>4225</th>\n",
       "      <th>4770</th>\n",
       "      <th>Total Bags</th>\n",
       "      <th>Small Bags</th>\n",
       "      <th>Large Bags</th>\n",
       "      <th>XLarge Bags</th>\n",
       "      <th>type</th>\n",
       "      <th>year</th>\n",
       "      <th>region</th>\n",
       "    </tr>\n",
       "  </thead>\n",
       "  <tbody>\n",
       "    <tr>\n",
       "      <th>10289</th>\n",
       "      <td>32</td>\n",
       "      <td>-0.297239</td>\n",
       "      <td>0.155773</td>\n",
       "      <td>-0.1986</td>\n",
       "      <td>-1.228986</td>\n",
       "      <td>-0.428559</td>\n",
       "      <td>-0.243363</td>\n",
       "      <td>-1.624482</td>\n",
       "      <td>-0.677919</td>\n",
       "      <td>1</td>\n",
       "      <td>2015</td>\n",
       "      <td>22</td>\n",
       "    </tr>\n",
       "  </tbody>\n",
       "</table>\n",
       "</div>"
      ],
      "text/plain": [
       "       Date  Total Volume      4046    4225      4770  Total Bags  Small Bags  \\\n",
       "10289    32     -0.297239  0.155773 -0.1986 -1.228986   -0.428559   -0.243363   \n",
       "\n",
       "       Large Bags  XLarge Bags  type  year  region  \n",
       "10289   -1.624482    -0.677919     1  2015      22  "
      ]
     },
     "execution_count": 39,
     "metadata": {},
     "output_type": "execute_result"
    }
   ],
   "source": [
    "# Data to Predict AveragePrice\n",
    "x=df_new.drop(['AveragePrice'],axis=1)\n",
    "x.sample()"
   ]
  },
  {
   "cell_type": "code",
   "execution_count": 40,
   "id": "0101b994",
   "metadata": {},
   "outputs": [
    {
     "data": {
      "text/plain": [
       "0        1.33\n",
       "1        1.35\n",
       "2        0.93\n",
       "3        1.08\n",
       "4        1.28\n",
       "         ... \n",
       "18244    1.63\n",
       "18245    1.71\n",
       "18246    1.87\n",
       "18247    1.93\n",
       "18248    1.62\n",
       "Name: AveragePrice, Length: 17651, dtype: float64"
      ]
     },
     "execution_count": 40,
     "metadata": {},
     "output_type": "execute_result"
    }
   ],
   "source": [
    "y=df_new['AveragePrice']\n",
    "y"
   ]
  },
  {
   "cell_type": "code",
   "execution_count": 41,
   "id": "990623df",
   "metadata": {},
   "outputs": [
    {
     "data": {
      "text/plain": [
       "((17651,), (17651, 12))"
      ]
     },
     "execution_count": 41,
     "metadata": {},
     "output_type": "execute_result"
    }
   ],
   "source": [
    "y.shape,x.shape"
   ]
  },
  {
   "cell_type": "code",
   "execution_count": 42,
   "id": "31e9af5d",
   "metadata": {},
   "outputs": [],
   "source": [
    "from statsmodels.stats.outliers_influence import variance_inflation_factor"
   ]
  },
  {
   "cell_type": "code",
   "execution_count": 43,
   "id": "dbce5205",
   "metadata": {},
   "outputs": [],
   "source": [
    "def vif_calc():\n",
    "    vif=pd.DataFrame()\n",
    "    vif[\"VIF Factor\"]=[variance_inflation_factor(x.values,i)for i in range(x.shape[1])]\n",
    "    vif[\"Features\"]=x.columns\n",
    "    print(vif)"
   ]
  },
  {
   "cell_type": "code",
   "execution_count": 44,
   "id": "f46db864",
   "metadata": {},
   "outputs": [
    {
     "name": "stdout",
     "output_type": "stream",
     "text": [
      "    VIF Factor      Features\n",
      "0     5.302630          Date\n",
      "1    53.822355  Total Volume\n",
      "2     7.255067          4046\n",
      "3    11.382928          4225\n",
      "4     3.951874          4770\n",
      "5    35.132947    Total Bags\n",
      "6    16.627979    Small Bags\n",
      "7     3.459544    Large Bags\n",
      "8     2.055201   XLarge Bags\n",
      "9     7.526606          type\n",
      "10   10.919979          year\n",
      "11    4.211503        region\n"
     ]
    }
   ],
   "source": [
    "vif_calc()"
   ]
  },
  {
   "cell_type": "markdown",
   "id": "2ebde76b",
   "metadata": {},
   "source": [
    "We can observe that Total Volume and Total Bags is creating multicolinearity with the values 53.822 and 35.13, from the df.corr() heat map we can observe that Total Volume has -0.19 correlation and Total Bags has -0.18 correlation with AveragePrice hence Total Volume column can be dropped as its contribution is lesser to Averageprice than the contribution of Total Bags "
   ]
  },
  {
   "cell_type": "code",
   "execution_count": 45,
   "id": "190ed8ff",
   "metadata": {},
   "outputs": [
    {
     "data": {
      "text/plain": [
       "(17651, 11)"
      ]
     },
     "execution_count": 45,
     "metadata": {},
     "output_type": "execute_result"
    }
   ],
   "source": [
    "x = x.drop([\"Total Volume\"],axis=1)\n",
    "x.shape"
   ]
  },
  {
   "cell_type": "code",
   "execution_count": 46,
   "id": "f0c8bbf2",
   "metadata": {},
   "outputs": [
    {
     "name": "stdout",
     "output_type": "stream",
     "text": [
      "    VIF Factor     Features\n",
      "0     5.290095         Date\n",
      "1     3.750453         4046\n",
      "2     4.327340         4225\n",
      "3     3.938025         4770\n",
      "4    24.564969   Total Bags\n",
      "5    16.627010   Small Bags\n",
      "6     3.415951   Large Bags\n",
      "7     2.041152  XLarge Bags\n",
      "8     7.085990         type\n",
      "9    10.401296         year\n",
      "10    4.181267       region\n"
     ]
    }
   ],
   "source": [
    "vif_calc()"
   ]
  },
  {
   "cell_type": "markdown",
   "id": "c50185b0",
   "metadata": {},
   "source": [
    "We can observe that Total Bags and Small Bags is creating multicolinearity with the values 24.56 and 16.62, Total bags can be dropped as its contribution to Average price is -0.18 and Small bags contribution is -0.17"
   ]
  },
  {
   "cell_type": "code",
   "execution_count": 47,
   "id": "5d6952e5",
   "metadata": {},
   "outputs": [
    {
     "data": {
      "text/plain": [
       "(17651, 10)"
      ]
     },
     "execution_count": 47,
     "metadata": {},
     "output_type": "execute_result"
    }
   ],
   "source": [
    "x = x.drop([\"Total Bags\"],axis=1)\n",
    "x.shape"
   ]
  },
  {
   "cell_type": "code",
   "execution_count": 48,
   "id": "f48e69da",
   "metadata": {},
   "outputs": [
    {
     "name": "stdout",
     "output_type": "stream",
     "text": [
      "   VIF Factor     Features\n",
      "0    5.193000         Date\n",
      "1    3.729542         4046\n",
      "2    4.171083         4225\n",
      "3    3.937674         4770\n",
      "4    4.126143   Small Bags\n",
      "5    1.869287   Large Bags\n",
      "6    2.040549  XLarge Bags\n",
      "7    7.078599         type\n",
      "8   10.354675         year\n",
      "9    4.181173       region\n"
     ]
    }
   ],
   "source": [
    "vif_calc()"
   ]
  },
  {
   "cell_type": "markdown",
   "id": "d1a58c6e",
   "metadata": {},
   "source": [
    "We can again observe that Date and Year columns are creating multicolinearity as the Price isn't much dependent on Date we can drop off the Date column"
   ]
  },
  {
   "cell_type": "code",
   "execution_count": 49,
   "id": "864f834e",
   "metadata": {},
   "outputs": [
    {
     "data": {
      "text/plain": [
       "(17651, 9)"
      ]
     },
     "execution_count": 49,
     "metadata": {},
     "output_type": "execute_result"
    }
   ],
   "source": [
    "x = x.drop([\"Date\"],axis=1)\n",
    "x.shape"
   ]
  },
  {
   "cell_type": "code",
   "execution_count": 50,
   "id": "20c75de6",
   "metadata": {},
   "outputs": [
    {
     "name": "stdout",
     "output_type": "stream",
     "text": [
      "   VIF Factor     Features\n",
      "0    3.602368         4046\n",
      "1    4.078068         4225\n",
      "2    3.768649         4770\n",
      "3    3.573757   Small Bags\n",
      "4    1.756585   Large Bags\n",
      "5    1.956838  XLarge Bags\n",
      "6    7.062955         type\n",
      "7    6.895346         year\n",
      "8    4.180731       region\n"
     ]
    }
   ],
   "source": [
    "vif_calc()"
   ]
  },
  {
   "cell_type": "markdown",
   "id": "9062c918",
   "metadata": {},
   "source": [
    "Hence the multicolinearity is removed from the data"
   ]
  },
  {
   "cell_type": "code",
   "execution_count": 51,
   "id": "27b95fb4",
   "metadata": {},
   "outputs": [],
   "source": [
    "# Splitting the data for training and testing the model\n",
    "\n",
    "x_train,x_test,y_train,y_test=train_test_split(x,y,test_size=.25,random_state=42)"
   ]
  },
  {
   "cell_type": "code",
   "execution_count": 52,
   "id": "34537e64",
   "metadata": {},
   "outputs": [
    {
     "data": {
      "text/plain": [
       "((13238, 9), (4413, 9), (13238,), (4413,))"
      ]
     },
     "execution_count": 52,
     "metadata": {},
     "output_type": "execute_result"
    }
   ],
   "source": [
    "x_train.shape,x_test.shape,y_train.shape,y_test.shape"
   ]
  },
  {
   "cell_type": "code",
   "execution_count": 53,
   "id": "b975dafd",
   "metadata": {},
   "outputs": [],
   "source": [
    "lm=LinearRegression()\n",
    "DTR=DecisionTreeRegressor()\n",
    "KNR=KNeighborsRegressor()\n",
    "svr=SVR()\n",
    "La=Lasso()\n",
    "rd=Ridge()"
   ]
  },
  {
   "cell_type": "code",
   "execution_count": 54,
   "id": "6f40399f",
   "metadata": {},
   "outputs": [
    {
     "name": "stdout",
     "output_type": "stream",
     "text": [
      "Score of  LinearRegression() is : 0.47690642614002576\n",
      "r2 score : 0.4690412634055062\n",
      "Errors of  LinearRegression() is\n",
      "Mean absolute error : 0.22108398048992686\n",
      "Mean squared error : 0.0797396357895357\n",
      "Root mean squared error : 0.28238207412924726\n",
      "\n",
      "\n",
      "Score of  DecisionTreeRegressor() is : 1.0\n",
      "r2 score : 0.6872103909929783\n",
      "Errors of  DecisionTreeRegressor() is\n",
      "Mean absolute error : 0.14308180376161342\n",
      "Mean squared error : 0.046974892363471556\n",
      "Root mean squared error : 0.21673691970559966\n",
      "\n",
      "\n",
      "Score of  KNeighborsRegressor() is : 0.8941862860604416\n",
      "r2 score : 0.8290833823087831\n",
      "Errors of  KNeighborsRegressor() is\n",
      "Mean absolute error : 0.11414865171085428\n",
      "Mean squared error : 0.025668338998413774\n",
      "Root mean squared error : 0.1602134170361951\n",
      "\n",
      "\n",
      "Score of  SVR() is : 0.0397605353460464\n",
      "r2 score : 0.040570823280558166\n",
      "Errors of  SVR() is\n",
      "Mean absolute error : 0.3067318105035412\n",
      "Mean squared error : 0.14408753043250286\n",
      "Root mean squared error : 0.37958863317083513\n",
      "\n",
      "\n",
      "Score of  Lasso() is : 0.0\n",
      "r2 score : -5.600800817040508e-05\n",
      "Errors of  Lasso() is\n",
      "Mean absolute error : 0.31564782860950014\n",
      "Mean squared error : 0.15018888729315902\n",
      "Root mean squared error : 0.38754211034822916\n",
      "\n",
      "\n",
      "Score of  Ridge() is : 0.4769063251976897\n",
      "r2 score : 0.4690435598876084\n",
      "Errors of  Ridge() is\n",
      "Mean absolute error : 0.22108331423083633\n",
      "Mean squared error : 0.07973929090276052\n",
      "Root mean squared error : 0.2823814634545981\n",
      "\n",
      "\n"
     ]
    }
   ],
   "source": [
    "model=[lm,DTR,KNR,svr,La,rd]\n",
    "for m in model:\n",
    "    m.fit(x_train,y_train)\n",
    "    m.score(x_train,y_train)\n",
    "    pred=m.predict(x_test)\n",
    "    print(\"Score of \",m,\"is :\",m.score(x_train,y_train))\n",
    "    print(\"r2 score :\",r2_score(y_test,pred))\n",
    "    print(\"Errors of \",m,\"is\")\n",
    "    print(\"Mean absolute error :\",mean_absolute_error(y_test,pred))\n",
    "    print(\"Mean squared error :\",mean_squared_error(y_test,pred))\n",
    "    print(\"Root mean squared error :\",np.sqrt(mean_squared_error(y_test,pred)))\n",
    "    print('\\n')"
   ]
  },
  {
   "cell_type": "markdown",
   "id": "d795c6b5",
   "metadata": {},
   "source": [
    "From the above scores and r2 scoes we can see that KNeighborsRegressor() model is working best with the score and r2 score of 89% and 82%"
   ]
  },
  {
   "cell_type": "code",
   "execution_count": 55,
   "id": "23d9b696",
   "metadata": {},
   "outputs": [
    {
     "name": "stdout",
     "output_type": "stream",
     "text": [
      "score of  LinearRegression() is : [0.46791549 0.48883096 0.48305827 0.48172207 0.45595803]\n",
      "score mean of  LinearRegression() is : 0.4754969629827553\n",
      "score std of  LinearRegression() is : 0.0119412689422381\n",
      "\n",
      "\n",
      "score of  DecisionTreeRegressor() is : [0.62529511 0.66443886 0.64850101 0.61796087 0.65365952]\n",
      "score mean of  DecisionTreeRegressor() is : 0.6419710721701067\n",
      "score std of  DecisionTreeRegressor() is : 0.017542169808562016\n",
      "\n",
      "\n",
      "score of  KNeighborsRegressor() is : [0.80221541 0.80943405 0.8160839  0.80571355 0.80966958]\n",
      "score mean of  KNeighborsRegressor() is : 0.8086232983021532\n",
      "score std of  KNeighborsRegressor() is : 0.004624724126182312\n",
      "\n",
      "\n",
      "score of  SVR() is : [0.03797071 0.03006623 0.02666509 0.03524437 0.02290674]\n",
      "score mean of  SVR() is : 0.03057062615416417\n",
      "score std of  SVR() is : 0.00549268501441593\n",
      "\n",
      "\n",
      "score of  Lasso() is : [-2.84083276e-03 -5.81442343e-05 -8.46671906e-04 -7.70887232e-04\n",
      " -1.80639033e-03]\n",
      "score mean of  Lasso() is : -0.001264585292286835\n",
      "score std of  Lasso() is : 0.0009645722546206903\n",
      "\n",
      "\n",
      "score of  Ridge() is : [0.46793652 0.48881477 0.48305199 0.48172064 0.45596252]\n",
      "score mean of  Ridge() is : 0.4754972879432085\n",
      "score std of  Ridge() is : 0.01193257241465703\n",
      "\n",
      "\n"
     ]
    }
   ],
   "source": [
    "#WE can now try with Cross validation for the models \n",
    "from sklearn.model_selection import cross_val_score\n",
    "model=[lm,DTR,KNR,svr,La,rd]\n",
    "for i in model:\n",
    "    score=cross_val_score(i,x_train,y_train,cv=5)\n",
    "    print(\"score of \",i,\"is :\",score)\n",
    "    print(\"score mean of \",i,\"is :\",score.mean())\n",
    "    print(\"score std of \",i,\"is :\",score.std())\n",
    "    print('\\n')"
   ]
  },
  {
   "cell_type": "markdown",
   "id": "7ac996f2",
   "metadata": {},
   "source": [
    "Even with CV we can see that KNeighborsRegressor() model is performing well with mean score of 80%"
   ]
  },
  {
   "cell_type": "code",
   "execution_count": 56,
   "id": "0cf97b8c",
   "metadata": {},
   "outputs": [
    {
     "data": {
      "text/plain": [
       "GridSearchCV(cv=5, estimator=KNeighborsRegressor(),\n",
       "             param_grid={'algorithm': ['auto', 'ball_tree', 'kd_tree', 'brute'],\n",
       "                         'weights': ['uniform', 'distance']})"
      ]
     },
     "execution_count": 56,
     "metadata": {},
     "output_type": "execute_result"
    }
   ],
   "source": [
    "# Parameter tuning\n",
    "\n",
    "from sklearn.model_selection import GridSearchCV\n",
    "KNR=KNeighborsRegressor()\n",
    "params={'weights':['uniform','distance'],'algorithm':['auto','ball_tree','kd_tree','brute']}\n",
    "grd=GridSearchCV(estimator=KNR,param_grid=params,cv=5)\n",
    "grd.fit(x_train,y_train)"
   ]
  },
  {
   "cell_type": "code",
   "execution_count": 57,
   "id": "67c934cf",
   "metadata": {},
   "outputs": [
    {
     "data": {
      "text/plain": [
       "{'algorithm': 'auto', 'weights': 'distance'}"
      ]
     },
     "execution_count": 57,
     "metadata": {},
     "output_type": "execute_result"
    }
   ],
   "source": [
    "grd.best_params_"
   ]
  },
  {
   "cell_type": "code",
   "execution_count": 58,
   "id": "33cf0c9f",
   "metadata": {},
   "outputs": [
    {
     "data": {
      "text/plain": [
       "0.8263726620699234"
      ]
     },
     "execution_count": 58,
     "metadata": {},
     "output_type": "execute_result"
    }
   ],
   "source": [
    "grd.best_score_"
   ]
  },
  {
   "cell_type": "code",
   "execution_count": 59,
   "id": "78309acc",
   "metadata": {},
   "outputs": [
    {
     "name": "stdout",
     "output_type": "stream",
     "text": [
      "Score:  100.0\n",
      "R2_Score: 84.72417513310721\n",
      "mean_squared_error: 0.022941306495556327\n",
      "mean_absolute_error: 0.10701981402678902\n",
      "RMSE value: 0.15146387851747467\n"
     ]
    }
   ],
   "source": [
    "# Saving the best model\n",
    "Final_regressor=KNeighborsRegressor(algorithm='auto',weights='distance')\n",
    "Final_regressor.fit(x_train,y_train)\n",
    "pred=Final_regressor.predict(x_test)\n",
    "print(\"Score: \",Final_regressor.score(x_train,y_train)*100)\n",
    "print('R2_Score:',r2_score(y_test,pred)*100)\n",
    "print('mean_squared_error:',mean_squared_error(y_test,pred))\n",
    "print('mean_absolute_error:',mean_absolute_error(y_test,pred))\n",
    "print(\"RMSE value:\",np.sqrt(mean_squared_error(y_test,pred)))"
   ]
  },
  {
   "cell_type": "code",
   "execution_count": 60,
   "id": "0761f6c9",
   "metadata": {},
   "outputs": [
    {
     "data": {
      "text/plain": [
       "['Avocado_AveragePrice_Prediction.obj']"
      ]
     },
     "execution_count": 60,
     "metadata": {},
     "output_type": "execute_result"
    }
   ],
   "source": [
    "# We can save the model now\n",
    "import joblib\n",
    "joblib.dump(Final_regressor,'Avocado_AveragePrice_Prediction.obj')"
   ]
  },
  {
   "cell_type": "markdown",
   "id": "239f0188",
   "metadata": {},
   "source": [
    "Loading the saved model and predicting the values"
   ]
  },
  {
   "cell_type": "code",
   "execution_count": 61,
   "id": "02c7b15d",
   "metadata": {},
   "outputs": [],
   "source": [
    "Avocado_AvgPrice=joblib.load('Avocado_AveragePrice_Prediction.obj')"
   ]
  },
  {
   "cell_type": "code",
   "execution_count": 62,
   "id": "15028d20",
   "metadata": {},
   "outputs": [
    {
     "name": "stdout",
     "output_type": "stream",
     "text": [
      "Predicted values : [1.34255582 1.61382432 1.17305848 ... 1.81509214 1.26170029 1.22265005]\n"
     ]
    }
   ],
   "source": [
    "pred=Avocado_AvgPrice.predict(x_test)\n",
    "print(\"Predicted values :\",pred)"
   ]
  },
  {
   "cell_type": "code",
   "execution_count": 63,
   "id": "4777006b",
   "metadata": {},
   "outputs": [
    {
     "data": {
      "text/plain": [
       "3596     1.36\n",
       "7141     1.70\n",
       "4625     1.22\n",
       "5456     0.81\n",
       "10969    1.85\n",
       "         ... \n",
       "3618     1.05\n",
       "16950    1.97\n",
       "11096    1.73\n",
       "4588     1.30\n",
       "9061     0.90\n",
       "Name: AveragePrice, Length: 4413, dtype: float64"
      ]
     },
     "execution_count": 63,
     "metadata": {},
     "output_type": "execute_result"
    }
   ],
   "source": [
    "y_test"
   ]
  },
  {
   "cell_type": "code",
   "execution_count": 64,
   "id": "76a603ba",
   "metadata": {},
   "outputs": [
    {
     "data": {
      "text/html": [
       "<div>\n",
       "<style scoped>\n",
       "    .dataframe tbody tr th:only-of-type {\n",
       "        vertical-align: middle;\n",
       "    }\n",
       "\n",
       "    .dataframe tbody tr th {\n",
       "        vertical-align: top;\n",
       "    }\n",
       "\n",
       "    .dataframe thead th {\n",
       "        text-align: right;\n",
       "    }\n",
       "</style>\n",
       "<table border=\"1\" class=\"dataframe\">\n",
       "  <thead>\n",
       "    <tr style=\"text-align: right;\">\n",
       "      <th></th>\n",
       "      <th>Predicted values</th>\n",
       "      <th>Original values</th>\n",
       "    </tr>\n",
       "  </thead>\n",
       "  <tbody>\n",
       "    <tr>\n",
       "      <th>3596</th>\n",
       "      <td>1.34</td>\n",
       "      <td>1.36</td>\n",
       "    </tr>\n",
       "    <tr>\n",
       "      <th>7141</th>\n",
       "      <td>1.61</td>\n",
       "      <td>1.70</td>\n",
       "    </tr>\n",
       "    <tr>\n",
       "      <th>4625</th>\n",
       "      <td>1.17</td>\n",
       "      <td>1.22</td>\n",
       "    </tr>\n",
       "    <tr>\n",
       "      <th>5456</th>\n",
       "      <td>1.00</td>\n",
       "      <td>0.81</td>\n",
       "    </tr>\n",
       "    <tr>\n",
       "      <th>10969</th>\n",
       "      <td>1.89</td>\n",
       "      <td>1.85</td>\n",
       "    </tr>\n",
       "    <tr>\n",
       "      <th>...</th>\n",
       "      <td>...</td>\n",
       "      <td>...</td>\n",
       "    </tr>\n",
       "    <tr>\n",
       "      <th>3618</th>\n",
       "      <td>1.03</td>\n",
       "      <td>1.05</td>\n",
       "    </tr>\n",
       "    <tr>\n",
       "      <th>16950</th>\n",
       "      <td>1.86</td>\n",
       "      <td>1.97</td>\n",
       "    </tr>\n",
       "    <tr>\n",
       "      <th>11096</th>\n",
       "      <td>1.82</td>\n",
       "      <td>1.73</td>\n",
       "    </tr>\n",
       "    <tr>\n",
       "      <th>4588</th>\n",
       "      <td>1.26</td>\n",
       "      <td>1.30</td>\n",
       "    </tr>\n",
       "    <tr>\n",
       "      <th>9061</th>\n",
       "      <td>1.22</td>\n",
       "      <td>0.90</td>\n",
       "    </tr>\n",
       "  </tbody>\n",
       "</table>\n",
       "<p>4413 rows × 2 columns</p>\n",
       "</div>"
      ],
      "text/plain": [
       "       Predicted values  Original values\n",
       "3596               1.34             1.36\n",
       "7141               1.61             1.70\n",
       "4625               1.17             1.22\n",
       "5456               1.00             0.81\n",
       "10969              1.89             1.85\n",
       "...                 ...              ...\n",
       "3618               1.03             1.05\n",
       "16950              1.86             1.97\n",
       "11096              1.82             1.73\n",
       "4588               1.26             1.30\n",
       "9061               1.22             0.90\n",
       "\n",
       "[4413 rows x 2 columns]"
      ]
     },
     "execution_count": 64,
     "metadata": {},
     "output_type": "execute_result"
    }
   ],
   "source": [
    "# Making a DataFrame of Predicted values and Original values\n",
    "df1=pd.DataFrame({'Predicted values':pred.round(2),'Original values':y_test})\n",
    "df1"
   ]
  },
  {
   "cell_type": "markdown",
   "id": "a03135ea",
   "metadata": {},
   "source": [
    "We can observe that both predicted and original values to be almost near by"
   ]
  },
  {
   "cell_type": "markdown",
   "id": "9306a329",
   "metadata": {},
   "source": [
    "# Avocado Region prediction using classifiers"
   ]
  },
  {
   "cell_type": "code",
   "execution_count": 69,
   "id": "9eef90c3",
   "metadata": {},
   "outputs": [
    {
     "data": {
      "text/plain": [
       "(17651, 12)"
      ]
     },
     "execution_count": 69,
     "metadata": {},
     "output_type": "execute_result"
    }
   ],
   "source": [
    "xc=df_new.drop(['region'],axis=1)\n",
    "xc.shape"
   ]
  },
  {
   "cell_type": "code",
   "execution_count": 70,
   "id": "6a0ce5eb",
   "metadata": {},
   "outputs": [
    {
     "data": {
      "text/html": [
       "<div>\n",
       "<style scoped>\n",
       "    .dataframe tbody tr th:only-of-type {\n",
       "        vertical-align: middle;\n",
       "    }\n",
       "\n",
       "    .dataframe tbody tr th {\n",
       "        vertical-align: top;\n",
       "    }\n",
       "\n",
       "    .dataframe thead th {\n",
       "        text-align: right;\n",
       "    }\n",
       "</style>\n",
       "<table border=\"1\" class=\"dataframe\">\n",
       "  <thead>\n",
       "    <tr style=\"text-align: right;\">\n",
       "      <th></th>\n",
       "      <th>Date</th>\n",
       "      <th>AveragePrice</th>\n",
       "      <th>Total Volume</th>\n",
       "      <th>4046</th>\n",
       "      <th>4225</th>\n",
       "      <th>4770</th>\n",
       "      <th>Total Bags</th>\n",
       "      <th>Small Bags</th>\n",
       "      <th>Large Bags</th>\n",
       "      <th>XLarge Bags</th>\n",
       "      <th>type</th>\n",
       "      <th>year</th>\n",
       "    </tr>\n",
       "  </thead>\n",
       "  <tbody>\n",
       "    <tr>\n",
       "      <th>8436</th>\n",
       "      <td>145</td>\n",
       "      <td>1.15</td>\n",
       "      <td>0.975987</td>\n",
       "      <td>1.307897</td>\n",
       "      <td>0.676175</td>\n",
       "      <td>0.274363</td>\n",
       "      <td>0.737536</td>\n",
       "      <td>0.475201</td>\n",
       "      <td>1.229971</td>\n",
       "      <td>-0.677919</td>\n",
       "      <td>0</td>\n",
       "      <td>2017</td>\n",
       "    </tr>\n",
       "  </tbody>\n",
       "</table>\n",
       "</div>"
      ],
      "text/plain": [
       "      Date  AveragePrice  Total Volume      4046      4225      4770  \\\n",
       "8436   145          1.15      0.975987  1.307897  0.676175  0.274363   \n",
       "\n",
       "      Total Bags  Small Bags  Large Bags  XLarge Bags  type  year  \n",
       "8436    0.737536    0.475201    1.229971    -0.677919     0  2017  "
      ]
     },
     "execution_count": 70,
     "metadata": {},
     "output_type": "execute_result"
    }
   ],
   "source": [
    "xc.sample()"
   ]
  },
  {
   "cell_type": "code",
   "execution_count": 72,
   "id": "497daf50",
   "metadata": {},
   "outputs": [
    {
     "data": {
      "text/plain": [
       "0         0\n",
       "1         0\n",
       "2         0\n",
       "3         0\n",
       "4         0\n",
       "         ..\n",
       "18244    53\n",
       "18245    53\n",
       "18246    53\n",
       "18247    53\n",
       "18248    53\n",
       "Name: region, Length: 17651, dtype: int32"
      ]
     },
     "execution_count": 72,
     "metadata": {},
     "output_type": "execute_result"
    }
   ],
   "source": [
    "yc=df_new['region']\n",
    "yc"
   ]
  },
  {
   "cell_type": "code",
   "execution_count": 76,
   "id": "9b37be8a",
   "metadata": {},
   "outputs": [],
   "source": [
    "def vif_calc():\n",
    "    vif=pd.DataFrame()\n",
    "    vif[\"VIF Factor\"]=[variance_inflation_factor(xc.values,i)for i in range(xc.shape[1])]\n",
    "    vif[\"Features\"]=xc.columns\n",
    "    print(vif)"
   ]
  },
  {
   "cell_type": "code",
   "execution_count": 77,
   "id": "ef3ab1dc",
   "metadata": {},
   "outputs": [
    {
     "name": "stdout",
     "output_type": "stream",
     "text": [
      "    VIF Factor      Features\n",
      "0     5.912244          Date\n",
      "1    31.642188  AveragePrice\n",
      "2    54.879302  Total Volume\n",
      "3     6.913824          4046\n",
      "4    12.450626          4225\n",
      "5     3.967152          4770\n",
      "6    36.039169    Total Bags\n",
      "7    17.283171    Small Bags\n",
      "8     3.477804    Large Bags\n",
      "9     2.047353   XLarge Bags\n",
      "10    8.480019          type\n",
      "11   24.686859          year\n"
     ]
    }
   ],
   "source": [
    "vif_calc()"
   ]
  },
  {
   "cell_type": "markdown",
   "id": "666e19d0",
   "metadata": {},
   "source": [
    "We can observe that Total Volume and Total Bags is creating multicolinearity with the values 53.822 and 35.13, from the df.corr() heat map we can observe that Total Volume has -0.19 correlation and Total Bags has -0.18 correlation with AveragePrice hence Total Volume column can be dropped as its contribution is lesser to Averageprice than the contribution of Total Bags"
   ]
  },
  {
   "cell_type": "code",
   "execution_count": 78,
   "id": "92852d02",
   "metadata": {},
   "outputs": [
    {
     "data": {
      "text/plain": [
       "(17651, 11)"
      ]
     },
     "execution_count": 78,
     "metadata": {},
     "output_type": "execute_result"
    }
   ],
   "source": [
    "xc = xc.drop([\"Total Volume\"],axis=1)\n",
    "xc.shape"
   ]
  },
  {
   "cell_type": "code",
   "execution_count": 80,
   "id": "92d223c7",
   "metadata": {},
   "outputs": [
    {
     "name": "stdout",
     "output_type": "stream",
     "text": [
      "    VIF Factor      Features\n",
      "0     5.912027          Date\n",
      "1    30.809978  AveragePrice\n",
      "2     3.592368          4046\n",
      "3     4.667574          4225\n",
      "4     3.957439          4770\n",
      "5    26.843089    Total Bags\n",
      "6    17.271880    Small Bags\n",
      "7     3.424540    Large Bags\n",
      "8     2.035524   XLarge Bags\n",
      "9     8.214396          type\n",
      "10   23.161968          year\n"
     ]
    }
   ],
   "source": [
    "vif_calc()"
   ]
  },
  {
   "cell_type": "markdown",
   "id": "3dbd4458",
   "metadata": {},
   "source": [
    "We can observe that Total Bags and Small Bags is creating multicolinearity with the values 24.56 and 16.62, Total bags can be dropped as its contribution to Average price is -0.18 and Small bags contribution is -0.17"
   ]
  },
  {
   "cell_type": "code",
   "execution_count": 81,
   "id": "a41b178f",
   "metadata": {},
   "outputs": [
    {
     "data": {
      "text/plain": [
       "(17651, 10)"
      ]
     },
     "execution_count": 81,
     "metadata": {},
     "output_type": "execute_result"
    }
   ],
   "source": [
    "xc = xc.drop([\"Total Bags\"],axis=1)\n",
    "xc.shape"
   ]
  },
  {
   "cell_type": "code",
   "execution_count": 82,
   "id": "61d256c4",
   "metadata": {},
   "outputs": [
    {
     "name": "stdout",
     "output_type": "stream",
     "text": [
      "   VIF Factor      Features\n",
      "0    5.633196          Date\n",
      "1   28.194566  AveragePrice\n",
      "2    3.584853          4046\n",
      "3    4.364125          4225\n",
      "4    3.956827          4770\n",
      "5    4.191474    Small Bags\n",
      "6    2.077724    Large Bags\n",
      "7    2.035251   XLarge Bags\n",
      "8    8.155655          type\n",
      "9   22.295649          year\n"
     ]
    }
   ],
   "source": [
    "vif_calc()"
   ]
  },
  {
   "cell_type": "code",
   "execution_count": 83,
   "id": "b72b40d0",
   "metadata": {},
   "outputs": [
    {
     "data": {
      "text/plain": [
       "(17651, 9)"
      ]
     },
     "execution_count": 83,
     "metadata": {},
     "output_type": "execute_result"
    }
   ],
   "source": [
    "xc = xc.drop([\"year\"],axis=1)\n",
    "xc.shape"
   ]
  },
  {
   "cell_type": "code",
   "execution_count": 84,
   "id": "4750adae",
   "metadata": {},
   "outputs": [
    {
     "name": "stdout",
     "output_type": "stream",
     "text": [
      "   VIF Factor      Features\n",
      "0    5.492774          Date\n",
      "1   10.197405  AveragePrice\n",
      "2    3.382819          4046\n",
      "3    4.353074          4225\n",
      "4    3.872575          4770\n",
      "5    4.190405    Small Bags\n",
      "6    2.039283    Large Bags\n",
      "7    2.034487   XLarge Bags\n",
      "8    8.137756          type\n"
     ]
    }
   ],
   "source": [
    "vif_calc()"
   ]
  },
  {
   "cell_type": "code",
   "execution_count": 85,
   "id": "e717ae26",
   "metadata": {},
   "outputs": [],
   "source": [
    "xc_train,xc_test,yc_train,yc_test=train_test_split(xc,yc,test_size=.25,random_state=42)"
   ]
  },
  {
   "cell_type": "code",
   "execution_count": 86,
   "id": "e102a15e",
   "metadata": {},
   "outputs": [],
   "source": [
    "dtc=DecisionTreeClassifier()\n",
    "knc=KNeighborsClassifier()\n",
    "rfc=RandomForestClassifier()"
   ]
  },
  {
   "cell_type": "code",
   "execution_count": 87,
   "id": "d2ae9d67",
   "metadata": {},
   "outputs": [
    {
     "name": "stdout",
     "output_type": "stream",
     "text": [
      "Accuracy score of  DecisionTreeClassifier() is : \n",
      "0.7960571040108769\n",
      "[[70  0  0 ...  0  0  0]\n",
      " [ 0 66  0 ...  0  0  2]\n",
      " [ 0  0 70 ...  0  0  1]\n",
      " ...\n",
      " [ 0  0  0 ... 43  0  0]\n",
      " [ 0  0  0 ...  1 46  0]\n",
      " [ 0  1  2 ...  0  0 50]]\n",
      "              precision    recall  f1-score   support\n",
      "\n",
      "           0       0.83      0.81      0.82        86\n",
      "           1       0.71      0.76      0.73        87\n",
      "           2       0.90      0.88      0.89        80\n",
      "           3       0.84      0.83      0.83        81\n",
      "           4       0.86      0.95      0.90        80\n",
      "           5       0.78      0.76      0.77        91\n",
      "           6       0.92      0.91      0.91        75\n",
      "           7       0.89      0.83      0.86        96\n",
      "           8       0.93      0.92      0.92        72\n",
      "           9       0.79      0.57      0.66        93\n",
      "          10       0.72      0.64      0.68        77\n",
      "          11       0.81      0.80      0.80        84\n",
      "          12       0.89      0.85      0.87        86\n",
      "          13       0.60      0.74      0.66        73\n",
      "          14       0.92      0.75      0.83        93\n",
      "          15       0.91      0.93      0.92        72\n",
      "          16       0.91      0.92      0.92        90\n",
      "          17       0.86      0.78      0.82        78\n",
      "          18       0.76      0.80      0.78       101\n",
      "          19       0.81      0.82      0.82        78\n",
      "          20       0.88      0.80      0.84        92\n",
      "          21       0.58      0.63      0.60        82\n",
      "          22       0.92      0.89      0.90        90\n",
      "          23       0.69      0.75      0.72        72\n",
      "          24       0.64      0.62      0.63        82\n",
      "          25       0.96      0.94      0.95        96\n",
      "          26       0.64      0.73      0.68        81\n",
      "          27       0.74      0.74      0.74        89\n",
      "          28       0.78      0.82      0.80        76\n",
      "          29       0.88      0.87      0.87        82\n",
      "          30       0.87      0.90      0.89        91\n",
      "          31       0.68      0.62      0.65        85\n",
      "          32       0.87      0.84      0.85        80\n",
      "          33       0.66      0.76      0.71        91\n",
      "          34       0.78      0.73      0.75        77\n",
      "          35       0.90      0.90      0.90        80\n",
      "          36       0.69      0.75      0.72        65\n",
      "          37       0.70      0.74      0.72        72\n",
      "          38       0.84      0.80      0.82        81\n",
      "          39       0.70      0.85      0.77        80\n",
      "          40       0.91      0.80      0.85        86\n",
      "          41       0.81      0.79      0.80        95\n",
      "          42       0.85      0.86      0.86        81\n",
      "          43       0.79      0.83      0.81        78\n",
      "          44       0.80      0.84      0.82        97\n",
      "          45       0.89      0.90      0.89        79\n",
      "          46       0.91      0.88      0.90        69\n",
      "          47       0.74      0.72      0.73        97\n",
      "          48       0.72      0.65      0.68        81\n",
      "          49       0.75      0.82      0.79        80\n",
      "          50       0.50      0.55      0.53        83\n",
      "          51       0.98      0.98      0.98        44\n",
      "          52       0.92      0.96      0.94        48\n",
      "          53       0.68      0.64      0.66        78\n",
      "\n",
      "    accuracy                           0.80      4413\n",
      "   macro avg       0.80      0.80      0.80      4413\n",
      "weighted avg       0.80      0.80      0.80      4413\n",
      "\n",
      "\n",
      "\n",
      "Accuracy score of  KNeighborsClassifier() is : \n",
      "0.2821210061182869\n",
      "[[57  0  0 ...  0  0  0]\n",
      " [ 0 30  0 ...  0  0  0]\n",
      " [ 0  0 62 ...  0  0  0]\n",
      " ...\n",
      " [ 0  2  1 ... 20  1  0]\n",
      " [ 0  1  0 ...  0 20  0]\n",
      " [ 0  4  9 ...  0  0 11]]\n",
      "              precision    recall  f1-score   support\n",
      "\n",
      "           0       0.19      0.66      0.30        86\n",
      "           1       0.09      0.34      0.14        87\n",
      "           2       0.24      0.78      0.36        80\n",
      "           3       0.33      0.49      0.39        81\n",
      "           4       0.28      0.51      0.36        80\n",
      "           5       0.17      0.21      0.19        91\n",
      "           6       0.27      0.51      0.35        75\n",
      "           7       0.27      0.53      0.36        96\n",
      "           8       0.39      0.62      0.48        72\n",
      "           9       0.13      0.27      0.17        93\n",
      "          10       0.08      0.22      0.12        77\n",
      "          11       0.24      0.60      0.35        84\n",
      "          12       0.41      0.45      0.43        86\n",
      "          13       0.22      0.16      0.19        73\n",
      "          14       0.47      0.32      0.38        93\n",
      "          15       0.40      0.40      0.40        72\n",
      "          16       0.30      0.29      0.30        90\n",
      "          17       0.28      0.17      0.21        78\n",
      "          18       0.34      0.20      0.25       101\n",
      "          19       0.09      0.09      0.09        78\n",
      "          20       0.28      0.29      0.29        92\n",
      "          21       0.14      0.11      0.12        82\n",
      "          22       0.34      0.32      0.33        90\n",
      "          23       0.43      0.36      0.39        72\n",
      "          24       0.10      0.07      0.08        82\n",
      "          25       0.39      0.48      0.43        96\n",
      "          26       0.29      0.14      0.18        81\n",
      "          27       0.50      0.16      0.24        89\n",
      "          28       0.55      0.42      0.48        76\n",
      "          29       0.80      0.39      0.52        82\n",
      "          30       0.57      0.23      0.33        91\n",
      "          31       0.22      0.12      0.15        85\n",
      "          32       0.41      0.15      0.22        80\n",
      "          33       0.37      0.12      0.18        91\n",
      "          34       0.50      0.21      0.29        77\n",
      "          35       0.41      0.36      0.38        80\n",
      "          36       0.33      0.28      0.30        65\n",
      "          37       0.25      0.21      0.23        72\n",
      "          38       0.15      0.09      0.11        81\n",
      "          39       0.35      0.09      0.14        80\n",
      "          40       0.44      0.35      0.39        86\n",
      "          41       0.42      0.16      0.23        95\n",
      "          42       0.60      0.19      0.28        81\n",
      "          43       0.52      0.18      0.27        78\n",
      "          44       0.27      0.07      0.11        97\n",
      "          45       0.56      0.24      0.34        79\n",
      "          46       0.40      0.25      0.31        69\n",
      "          47       0.50      0.18      0.26        97\n",
      "          48       0.44      0.09      0.14        81\n",
      "          49       0.42      0.20      0.27        80\n",
      "          50       0.24      0.10      0.14        83\n",
      "          51       1.00      0.45      0.62        44\n",
      "          52       0.67      0.42      0.51        48\n",
      "          53       0.44      0.14      0.21        78\n",
      "\n",
      "    accuracy                           0.28      4413\n",
      "   macro avg       0.36      0.29      0.28      4413\n",
      "weighted avg       0.35      0.28      0.28      4413\n",
      "\n",
      "\n",
      "\n",
      "Accuracy score of  RandomForestClassifier() is : \n",
      "0.9032404260140494\n",
      "[[79  0  0 ...  0  0  0]\n",
      " [ 0 75  0 ...  0  0  1]\n",
      " [ 0  0 80 ...  0  0  0]\n",
      " ...\n",
      " [ 0  0  0 ... 44  0  0]\n",
      " [ 0  0  0 ...  1 47  0]\n",
      " [ 0  0  0 ...  0  0 65]]\n",
      "              precision    recall  f1-score   support\n",
      "\n",
      "           0       0.87      0.92      0.89        86\n",
      "           1       0.79      0.86      0.82        87\n",
      "           2       0.94      1.00      0.97        80\n",
      "           3       0.90      0.81      0.86        81\n",
      "           4       0.93      0.97      0.95        80\n",
      "           5       0.90      0.82      0.86        91\n",
      "           6       0.96      0.96      0.96        75\n",
      "           7       0.91      0.89      0.90        96\n",
      "           8       0.95      1.00      0.97        72\n",
      "           9       0.95      0.87      0.91        93\n",
      "          10       0.87      0.88      0.88        77\n",
      "          11       0.91      0.94      0.92        84\n",
      "          12       0.89      0.95      0.92        86\n",
      "          13       0.88      0.82      0.85        73\n",
      "          14       0.94      0.87      0.91        93\n",
      "          15       0.99      0.96      0.97        72\n",
      "          16       0.97      0.94      0.96        90\n",
      "          17       0.93      0.90      0.92        78\n",
      "          18       0.91      0.92      0.92       101\n",
      "          19       0.85      0.90      0.88        78\n",
      "          20       0.97      0.92      0.94        92\n",
      "          21       0.78      0.78      0.78        82\n",
      "          22       0.99      1.00      0.99        90\n",
      "          23       0.83      0.86      0.84        72\n",
      "          24       0.77      0.72      0.74        82\n",
      "          25       0.97      0.98      0.97        96\n",
      "          26       0.86      0.88      0.87        81\n",
      "          27       0.95      0.87      0.91        89\n",
      "          28       0.93      0.91      0.92        76\n",
      "          29       0.99      0.96      0.98        82\n",
      "          30       0.98      0.95      0.96        91\n",
      "          31       0.78      0.80      0.79        85\n",
      "          32       0.92      0.95      0.93        80\n",
      "          33       0.83      0.95      0.88        91\n",
      "          34       0.96      0.95      0.95        77\n",
      "          35       0.95      0.95      0.95        80\n",
      "          36       0.84      0.88      0.86        65\n",
      "          37       0.87      0.90      0.88        72\n",
      "          38       0.95      0.93      0.94        81\n",
      "          39       0.83      0.95      0.88        80\n",
      "          40       0.89      0.95      0.92        86\n",
      "          41       0.88      0.88      0.88        95\n",
      "          42       0.97      0.96      0.97        81\n",
      "          43       0.90      0.85      0.87        78\n",
      "          44       0.95      0.92      0.93        97\n",
      "          45       0.99      0.94      0.96        79\n",
      "          46       0.93      0.99      0.96        69\n",
      "          47       0.89      0.85      0.87        97\n",
      "          48       0.92      0.88      0.90        81\n",
      "          49       0.86      0.93      0.89        80\n",
      "          50       0.67      0.65      0.66        83\n",
      "          51       0.98      1.00      0.99        44\n",
      "          52       0.94      0.98      0.96        48\n",
      "          53       0.90      0.83      0.87        78\n",
      "\n",
      "    accuracy                           0.90      4413\n",
      "   macro avg       0.90      0.90      0.90      4413\n",
      "weighted avg       0.90      0.90      0.90      4413\n",
      "\n",
      "\n",
      "\n"
     ]
    }
   ],
   "source": [
    "model=[dtc,knc,rfc]\n",
    "for m in model:\n",
    "    m.fit(xc_train,yc_train)\n",
    "    m.score(xc_train,yc_train)\n",
    "    predm=m.predict(xc_test)\n",
    "    print(\"Accuracy score of \",m,\"is : \")\n",
    "    print(accuracy_score(yc_test,predm))\n",
    "    print(confusion_matrix(yc_test,predm))\n",
    "    print(classification_report(yc_test,predm))\n",
    "    print('\\n')"
   ]
  },
  {
   "cell_type": "markdown",
   "id": "372ebb4d",
   "metadata": {},
   "source": [
    "We can consider RandomForestClassifier() to be the best model as its accuracy score is 90% and higher compared to other models"
   ]
  },
  {
   "cell_type": "code",
   "execution_count": 88,
   "id": "1c3d01c3",
   "metadata": {},
   "outputs": [],
   "source": [
    "from sklearn.model_selection import cross_val_score"
   ]
  },
  {
   "cell_type": "code",
   "execution_count": 90,
   "id": "89fe4c28",
   "metadata": {},
   "outputs": [
    {
     "name": "stdout",
     "output_type": "stream",
     "text": [
      "Score of :  DecisionTreeClassifier()\n",
      "[0.79418429 0.77832326 0.78549849 0.77295051 0.78163959]\n",
      "0.7825192288596678\n",
      "0.007139886804327424\n",
      "\n",
      "\n",
      "Score of :  KNeighborsClassifier()\n",
      "[0.23338369 0.22280967 0.24433535 0.21836041 0.23120514]\n",
      "0.23001884936147285\n",
      "0.009006476304508147\n",
      "\n",
      "\n",
      "Score of :  RandomForestClassifier()\n",
      "[0.90558912 0.90294562 0.90483384 0.90933132 0.91273139]\n",
      "0.9070862585130289\n",
      "0.003503357175713597\n",
      "\n",
      "\n"
     ]
    }
   ],
   "source": [
    "for m in model:\n",
    "    score=cross_val_score(m,xc_train,yc_train,cv=5)\n",
    "    print(\"Score of : \",m )\n",
    "    print(score)\n",
    "    print(score.mean())\n",
    "    print(score.std())\n",
    "    print('\\n')"
   ]
  },
  {
   "cell_type": "markdown",
   "id": "57a367a8",
   "metadata": {},
   "source": [
    "The mean score is best for RandomForestClassifier() model even in case of CV"
   ]
  },
  {
   "cell_type": "code",
   "execution_count": 91,
   "id": "a4364a31",
   "metadata": {},
   "outputs": [],
   "source": [
    "# Parameter tuning\n",
    "from sklearn.model_selection import GridSearchCV"
   ]
  },
  {
   "cell_type": "code",
   "execution_count": 92,
   "id": "3a94c3c3",
   "metadata": {},
   "outputs": [],
   "source": [
    "rfc=RandomForestClassifier()\n",
    "params={'criterion':['gini','entropy','log_loss']}"
   ]
  },
  {
   "cell_type": "code",
   "execution_count": 94,
   "id": "8e3371f6",
   "metadata": {},
   "outputs": [],
   "source": [
    "grd=GridSearchCV(estimator=rfc,param_grid=params,cv=5)"
   ]
  },
  {
   "cell_type": "code",
   "execution_count": 95,
   "id": "b8a2321e",
   "metadata": {},
   "outputs": [
    {
     "data": {
      "text/plain": [
       "GridSearchCV(cv=5, estimator=RandomForestClassifier(),\n",
       "             param_grid={'criterion': ['gini', 'entropy', 'log_loss']})"
      ]
     },
     "execution_count": 95,
     "metadata": {},
     "output_type": "execute_result"
    }
   ],
   "source": [
    "grd.fit(xc_train,yc_train)"
   ]
  },
  {
   "cell_type": "code",
   "execution_count": 96,
   "id": "daf2b919",
   "metadata": {},
   "outputs": [
    {
     "data": {
      "text/plain": [
       "0.9082195314310105"
      ]
     },
     "execution_count": 96,
     "metadata": {},
     "output_type": "execute_result"
    }
   ],
   "source": [
    "grd.best_score_"
   ]
  },
  {
   "cell_type": "code",
   "execution_count": 97,
   "id": "b9ece270",
   "metadata": {},
   "outputs": [
    {
     "data": {
      "text/plain": [
       "{'criterion': 'entropy'}"
      ]
     },
     "execution_count": 97,
     "metadata": {},
     "output_type": "execute_result"
    }
   ],
   "source": [
    "grd.best_params_"
   ]
  },
  {
   "cell_type": "code",
   "execution_count": 98,
   "id": "526e44c7",
   "metadata": {},
   "outputs": [
    {
     "name": "stdout",
     "output_type": "stream",
     "text": [
      "0.9077724903693632\n",
      "[[79  0  0 ...  0  0  0]\n",
      " [ 0 80  0 ...  0  0  0]\n",
      " [ 0  0 77 ...  0  0  0]\n",
      " ...\n",
      " [ 0  0  0 ... 44  0  0]\n",
      " [ 0  0  0 ...  1 47  0]\n",
      " [ 0  0  0 ...  0  0 64]]\n",
      "              precision    recall  f1-score   support\n",
      "\n",
      "           0       0.86      0.92      0.89        86\n",
      "           1       0.80      0.92      0.86        87\n",
      "           2       0.97      0.96      0.97        80\n",
      "           3       0.89      0.80      0.84        81\n",
      "           4       0.94      0.99      0.96        80\n",
      "           5       0.92      0.85      0.88        91\n",
      "           6       0.96      0.97      0.97        75\n",
      "           7       0.92      0.91      0.91        96\n",
      "           8       0.95      0.99      0.97        72\n",
      "           9       0.94      0.90      0.92        93\n",
      "          10       0.89      0.87      0.88        77\n",
      "          11       0.91      0.94      0.92        84\n",
      "          12       0.92      0.97      0.94        86\n",
      "          13       0.91      0.85      0.88        73\n",
      "          14       0.95      0.89      0.92        93\n",
      "          15       0.99      0.96      0.97        72\n",
      "          16       0.98      0.94      0.96        90\n",
      "          17       0.92      0.92      0.92        78\n",
      "          18       0.91      0.89      0.90       101\n",
      "          19       0.87      0.88      0.88        78\n",
      "          20       0.98      0.90      0.94        92\n",
      "          21       0.76      0.76      0.76        82\n",
      "          22       0.99      0.99      0.99        90\n",
      "          23       0.77      0.83      0.80        72\n",
      "          24       0.82      0.77      0.79        82\n",
      "          25       0.97      0.99      0.98        96\n",
      "          26       0.91      0.89      0.90        81\n",
      "          27       0.94      0.88      0.91        89\n",
      "          28       0.96      0.93      0.95        76\n",
      "          29       0.99      0.98      0.98        82\n",
      "          30       0.99      0.95      0.97        91\n",
      "          31       0.79      0.85      0.82        85\n",
      "          32       0.91      0.97      0.94        80\n",
      "          33       0.81      0.91      0.86        91\n",
      "          34       0.96      0.95      0.95        77\n",
      "          35       0.96      0.96      0.96        80\n",
      "          36       0.84      0.86      0.85        65\n",
      "          37       0.87      0.90      0.88        72\n",
      "          38       0.96      0.95      0.96        81\n",
      "          39       0.87      0.95      0.91        80\n",
      "          40       0.88      0.95      0.92        86\n",
      "          41       0.88      0.88      0.88        95\n",
      "          42       0.95      0.95      0.95        81\n",
      "          43       0.91      0.86      0.88        78\n",
      "          44       0.93      0.92      0.92        97\n",
      "          45       0.96      0.96      0.96        79\n",
      "          46       0.96      0.97      0.96        69\n",
      "          47       0.90      0.82      0.86        97\n",
      "          48       0.91      0.89      0.90        81\n",
      "          49       0.86      0.90      0.88        80\n",
      "          50       0.72      0.70      0.71        83\n",
      "          51       0.98      1.00      0.99        44\n",
      "          52       0.96      0.98      0.97        48\n",
      "          53       0.89      0.82      0.85        78\n",
      "\n",
      "    accuracy                           0.91      4413\n",
      "   macro avg       0.91      0.91      0.91      4413\n",
      "weighted avg       0.91      0.91      0.91      4413\n",
      "\n"
     ]
    }
   ],
   "source": [
    "# Saving the best model\n",
    "\n",
    "final_classifier=RandomForestClassifier(criterion='entropy')\n",
    "final_classifier.fit(xc_train,yc_train)\n",
    "pred=final_classifier.predict(xc_test)\n",
    "print(accuracy_score(yc_test,pred))\n",
    "print(confusion_matrix(yc_test,pred))\n",
    "print(classification_report(yc_test,pred))"
   ]
  },
  {
   "cell_type": "code",
   "execution_count": 100,
   "id": "da453433",
   "metadata": {},
   "outputs": [
    {
     "data": {
      "text/plain": [
       "['region_Prediction_finalmodel.obj']"
      ]
     },
     "execution_count": 100,
     "metadata": {},
     "output_type": "execute_result"
    }
   ],
   "source": [
    "# We can save the model now\n",
    "import joblib\n",
    "joblib.dump(final_classifier,'region_Prediction_finalmodel.obj')"
   ]
  },
  {
   "cell_type": "markdown",
   "id": "ed64c963",
   "metadata": {},
   "source": [
    "Loading the saved model and predicting the values"
   ]
  },
  {
   "cell_type": "code",
   "execution_count": 101,
   "id": "917b069f",
   "metadata": {},
   "outputs": [],
   "source": [
    "region_prediction=joblib.load('region_Prediction_finalmodel.obj')"
   ]
  },
  {
   "cell_type": "code",
   "execution_count": 102,
   "id": "11d110f0",
   "metadata": {},
   "outputs": [
    {
     "name": "stdout",
     "output_type": "stream",
     "text": [
      "Predicted values : [15 28 34 ... 37 34 26]\n"
     ]
    }
   ],
   "source": [
    "predc=region_prediction.predict(xc_test)\n",
    "print(\"Predicted values :\",predc)"
   ]
  },
  {
   "cell_type": "code",
   "execution_count": 103,
   "id": "4c72db82",
   "metadata": {},
   "outputs": [
    {
     "data": {
      "text/plain": [
       "3596     15\n",
       "7141     28\n",
       "4625     34\n",
       "5456     50\n",
       "10969    35\n",
       "         ..\n",
       "3618     15\n",
       "16950    41\n",
       "11096    37\n",
       "4588     34\n",
       "9061     48\n",
       "Name: region, Length: 4413, dtype: int32"
      ]
     },
     "execution_count": 103,
     "metadata": {},
     "output_type": "execute_result"
    }
   ],
   "source": [
    "yc_test"
   ]
  },
  {
   "cell_type": "code",
   "execution_count": 104,
   "id": "530cd444",
   "metadata": {},
   "outputs": [
    {
     "data": {
      "text/html": [
       "<div>\n",
       "<style scoped>\n",
       "    .dataframe tbody tr th:only-of-type {\n",
       "        vertical-align: middle;\n",
       "    }\n",
       "\n",
       "    .dataframe tbody tr th {\n",
       "        vertical-align: top;\n",
       "    }\n",
       "\n",
       "    .dataframe thead th {\n",
       "        text-align: right;\n",
       "    }\n",
       "</style>\n",
       "<table border=\"1\" class=\"dataframe\">\n",
       "  <thead>\n",
       "    <tr style=\"text-align: right;\">\n",
       "      <th></th>\n",
       "      <th>Predicted values</th>\n",
       "      <th>Original values</th>\n",
       "    </tr>\n",
       "  </thead>\n",
       "  <tbody>\n",
       "    <tr>\n",
       "      <th>3596</th>\n",
       "      <td>15</td>\n",
       "      <td>15</td>\n",
       "    </tr>\n",
       "    <tr>\n",
       "      <th>7141</th>\n",
       "      <td>28</td>\n",
       "      <td>28</td>\n",
       "    </tr>\n",
       "    <tr>\n",
       "      <th>4625</th>\n",
       "      <td>34</td>\n",
       "      <td>34</td>\n",
       "    </tr>\n",
       "    <tr>\n",
       "      <th>5456</th>\n",
       "      <td>1</td>\n",
       "      <td>50</td>\n",
       "    </tr>\n",
       "    <tr>\n",
       "      <th>10969</th>\n",
       "      <td>35</td>\n",
       "      <td>35</td>\n",
       "    </tr>\n",
       "    <tr>\n",
       "      <th>...</th>\n",
       "      <td>...</td>\n",
       "      <td>...</td>\n",
       "    </tr>\n",
       "    <tr>\n",
       "      <th>3618</th>\n",
       "      <td>15</td>\n",
       "      <td>15</td>\n",
       "    </tr>\n",
       "    <tr>\n",
       "      <th>16950</th>\n",
       "      <td>41</td>\n",
       "      <td>41</td>\n",
       "    </tr>\n",
       "    <tr>\n",
       "      <th>11096</th>\n",
       "      <td>37</td>\n",
       "      <td>37</td>\n",
       "    </tr>\n",
       "    <tr>\n",
       "      <th>4588</th>\n",
       "      <td>34</td>\n",
       "      <td>34</td>\n",
       "    </tr>\n",
       "    <tr>\n",
       "      <th>9061</th>\n",
       "      <td>26</td>\n",
       "      <td>48</td>\n",
       "    </tr>\n",
       "  </tbody>\n",
       "</table>\n",
       "<p>4413 rows × 2 columns</p>\n",
       "</div>"
      ],
      "text/plain": [
       "       Predicted values  Original values\n",
       "3596                 15               15\n",
       "7141                 28               28\n",
       "4625                 34               34\n",
       "5456                  1               50\n",
       "10969                35               35\n",
       "...                 ...              ...\n",
       "3618                 15               15\n",
       "16950                41               41\n",
       "11096                37               37\n",
       "4588                 34               34\n",
       "9061                 26               48\n",
       "\n",
       "[4413 rows x 2 columns]"
      ]
     },
     "execution_count": 104,
     "metadata": {},
     "output_type": "execute_result"
    }
   ],
   "source": [
    "# Making a DataFrame of Predicted values and Original values\n",
    "df11=pd.DataFrame({'Predicted values':predc,'Original values':yc_test})\n",
    "df11"
   ]
  },
  {
   "cell_type": "markdown",
   "id": "aa400a96",
   "metadata": {},
   "source": [
    "We can observe that the prediction almost similar, but we can still find some errors in some cases as the model is giving only 90% efficiency"
   ]
  }
 ],
 "metadata": {
  "kernelspec": {
   "display_name": "Python 3 (ipykernel)",
   "language": "python",
   "name": "python3"
  },
  "language_info": {
   "codemirror_mode": {
    "name": "ipython",
    "version": 3
   },
   "file_extension": ".py",
   "mimetype": "text/x-python",
   "name": "python",
   "nbconvert_exporter": "python",
   "pygments_lexer": "ipython3",
   "version": "3.9.7"
  }
 },
 "nbformat": 4,
 "nbformat_minor": 5
}
